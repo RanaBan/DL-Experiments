{
  "nbformat": 4,
  "nbformat_minor": 0,
  "metadata": {
    "colab": {
      "name": "Understanding RNNs.ipynb",
      "provenance": []
    },
    "kernelspec": {
      "name": "python3",
      "display_name": "Python 3"
    }
  },
  "cells": [
    {
      "cell_type": "code",
      "metadata": {
        "id": "cDur3CYiI0mP",
        "colab_type": "code",
        "colab": {}
      },
      "source": [
        "import torch\n",
        "import torchtext\n",
        "from torch.nn.utils.rnn import pack_padded_sequence, pad_packed_sequence, PackedSequence\n",
        "from torch import nn\n",
        "\n",
        "from torch import Tensor, dot, matmul\n",
        "\n",
        "import torch.nn.functional as F"
      ],
      "execution_count": 0,
      "outputs": []
    },
    {
      "cell_type": "markdown",
      "metadata": {
        "id": "ZBKTjysMK8oO",
        "colab_type": "text"
      },
      "source": [
        "## **Basic Example**"
      ]
    },
    {
      "cell_type": "code",
      "metadata": {
        "id": "7Oe7MDxcI3X5",
        "colab_type": "code",
        "colab": {}
      },
      "source": [
        "seq = torch.FloatTensor([[3, 4, 5]])  "
      ],
      "execution_count": 0,
      "outputs": []
    },
    {
      "cell_type": "code",
      "metadata": {
        "id": "lddRe7nqJgVW",
        "colab_type": "code",
        "colab": {}
      },
      "source": [
        "# Defining a basic RNN layer\n",
        "rnn= nn.RNN(input_size=1, hidden_size=1, num_layers = 1, bias = False, batch_first=True)"
      ],
      "execution_count": 0,
      "outputs": []
    },
    {
      "cell_type": "markdown",
      "metadata": {
        "id": "EX77IxL-25an",
        "colab_type": "text"
      },
      "source": [
        "RNN expects input sequences to be in a particular format. By setting batch_first = True, we set the input data format to be 'batch size, sequence length, # input features'"
      ]
    },
    {
      "cell_type": "code",
      "metadata": {
        "id": "KuCnWNED3KX4",
        "colab_type": "code",
        "colab": {
          "base_uri": "https://localhost:8080/",
          "height": 85
        },
        "outputId": "d3c4c62c-f818-4d8d-9b86-6b6d7c654486"
      },
      "source": [
        "seq = seq.unsqueeze(2)\n",
        "print(seq.shape)\n",
        "\n",
        "print(seq)"
      ],
      "execution_count": 55,
      "outputs": [
        {
          "output_type": "stream",
          "text": [
            "torch.Size([1, 3, 1])\n",
            "tensor([[[3.],\n",
            "         [4.],\n",
            "         [5.]]])\n"
          ],
          "name": "stdout"
        }
      ]
    },
    {
      "cell_type": "markdown",
      "metadata": {
        "id": "4gI6NOAW3aIu",
        "colab_type": "text"
      },
      "source": [
        "With the correct input format, we can now pass the input to the RNN layer. The RNN layer provides 2 outputs\n",
        "\n",
        "\n",
        "1.   All hidden states associated with a sequence, for all sequences in the batch\n",
        "2.   Just the very last hidden state for a sequence, for all sequences in the batch\n",
        "\n"
      ]
    },
    {
      "cell_type": "code",
      "metadata": {
        "id": "HP8pV2T8xrMW",
        "colab_type": "code",
        "colab": {}
      },
      "source": [
        "out_all,out_last = rnn(seq)"
      ],
      "execution_count": 0,
      "outputs": []
    },
    {
      "cell_type": "code",
      "metadata": {
        "id": "FWtCjqXQxrPQ",
        "colab_type": "code",
        "colab": {
          "base_uri": "https://localhost:8080/",
          "height": 51
        },
        "outputId": "18ca37e2-625a-424c-c6d5-548f69d29853"
      },
      "source": [
        "print(f\"Out all shape : {out_all.shape}\")\n",
        "\n",
        "print(f\"Out last shape : {out_last.shape}\")\n"
      ],
      "execution_count": 57,
      "outputs": [
        {
          "output_type": "stream",
          "text": [
            "Out all shape : torch.Size([1, 3, 1])\n",
            "Out last shape : torch.Size([1, 1, 1])\n"
          ],
          "name": "stdout"
        }
      ]
    },
    {
      "cell_type": "markdown",
      "metadata": {
        "id": "NRbfeecb5G7E",
        "colab_type": "text"
      },
      "source": [
        "There are 2 ways that we can acess the weights of the RNN layer.\n",
        "\n",
        "1.   Accessing individual parameters using their names `weight_hh_10`, `weight_1h_10` and so on.\n",
        "2.   Using the `state_dict()` parameter to access all weights\n",
        "\n",
        "\n",
        "\n"
      ]
    },
    {
      "cell_type": "code",
      "metadata": {
        "id": "5YXTrz0ixrR-",
        "colab_type": "code",
        "colab": {
          "base_uri": "https://localhost:8080/",
          "height": 51
        },
        "outputId": "a949e932-4587-41c6-f34d-76554f455bd1"
      },
      "source": [
        "rnn.weight_hh_l0"
      ],
      "execution_count": 60,
      "outputs": [
        {
          "output_type": "execute_result",
          "data": {
            "text/plain": [
              "Parameter containing:\n",
              "tensor([[0.9963]], requires_grad=True)"
            ]
          },
          "metadata": {
            "tags": []
          },
          "execution_count": 60
        }
      ]
    },
    {
      "cell_type": "code",
      "metadata": {
        "id": "tzJ7N0mQypmU",
        "colab_type": "code",
        "colab": {
          "base_uri": "https://localhost:8080/",
          "height": 51
        },
        "outputId": "11e49aa5-c8ef-4fe1-cb3a-0727e7d91a1b"
      },
      "source": [
        "rnn.weight_hh_l0"
      ],
      "execution_count": 26,
      "outputs": [
        {
          "output_type": "execute_result",
          "data": {
            "text/plain": [
              "Parameter containing:\n",
              "tensor([[0.7366]], requires_grad=True)"
            ]
          },
          "metadata": {
            "tags": []
          },
          "execution_count": 26
        }
      ]
    },
    {
      "cell_type": "code",
      "metadata": {
        "id": "Mnlj7_2Iypre",
        "colab_type": "code",
        "colab": {
          "base_uri": "https://localhost:8080/",
          "height": 51
        },
        "outputId": "ff20a7f6-2975-4219-b01f-5845bb8d3d42"
      },
      "source": [
        "rnn.state_dict()"
      ],
      "execution_count": 61,
      "outputs": [
        {
          "output_type": "execute_result",
          "data": {
            "text/plain": [
              "OrderedDict([('weight_ih_l0', tensor([[0.3445]])),\n",
              "             ('weight_hh_l0', tensor([[0.9963]]))])"
            ]
          },
          "metadata": {
            "tags": []
          },
          "execution_count": 61
        }
      ]
    },
    {
      "cell_type": "markdown",
      "metadata": {
        "id": "TS-izlb6zVyY",
        "colab_type": "text"
      },
      "source": [
        "### **Computing the output**\n",
        "\n",
        "RNN layers essentially take in a sequence and compute outputs for each time point in the input sequence. The weights that are used for computation remain the same for all time points.\n",
        "\n",
        "The basic equation governing the computation is given by :\n",
        "$h_t = \\text{tanh}(W_{ih} x_t + b_{ih} + W_{hh} h_{(t-1)} + b_{hh})$\n",
        "\n",
        "where \n",
        "$h_{t}$ represents the hidden state at time $t$\n",
        "\n",
        "\n",
        "\n",
        "\n",
        "\n",
        "\n"
      ]
    },
    {
      "cell_type": "code",
      "metadata": {
        "id": "5fCC3tAMypww",
        "colab_type": "code",
        "colab": {
          "base_uri": "https://localhost:8080/",
          "height": 68
        },
        "outputId": "da48120f-4a86-4327-bac7-b3228e999730"
      },
      "source": [
        "# Output states computed by the RNN layer\n",
        "out_all"
      ],
      "execution_count": 65,
      "outputs": [
        {
          "output_type": "execute_result",
          "data": {
            "text/plain": [
              "tensor([[[0.7753],\n",
              "         [0.9733],\n",
              "         [0.9909]]], grad_fn=<TransposeBackward1>)"
            ]
          },
          "metadata": {
            "tags": []
          },
          "execution_count": 65
        }
      ]
    },
    {
      "cell_type": "markdown",
      "metadata": {
        "id": "06R7gLKlGZiv",
        "colab_type": "text"
      },
      "source": [
        "#### Hidden State 1\n",
        "\n",
        "Note. Since this is the very first state (time = 1) and we dont have a hidden state preceding it, we assumne it be zero. Therefore, $h_{0}$ is taken to be 0."
      ]
    },
    {
      "cell_type": "code",
      "metadata": {
        "id": "KSaUQQcxxmov",
        "colab_type": "code",
        "colab": {
          "base_uri": "https://localhost:8080/",
          "height": 34
        },
        "outputId": "1449a37d-da83-4d76-b7df-2209f765c586"
      },
      "source": [
        "wih = rnn.weight_ih_l0\n",
        "whh = rnn.weight_hh_l0\n",
        "\n",
        "x = seq[0][0] # The first input feature of the first sequence\n",
        "\n",
        "# Computing thw hidden state for time = 1\n",
        "h1 = torch.tanh(Tensor(x*wih + whh*0))  \n",
        "h1"
      ],
      "execution_count": 73,
      "outputs": [
        {
          "output_type": "execute_result",
          "data": {
            "text/plain": [
              "tensor([[0.7753]], grad_fn=<TanhBackward>)"
            ]
          },
          "metadata": {
            "tags": []
          },
          "execution_count": 73
        }
      ]
    },
    {
      "cell_type": "markdown",
      "metadata": {
        "id": "2R4w-kU2HJel",
        "colab_type": "text"
      },
      "source": [
        "#### Hidden State 2"
      ]
    },
    {
      "cell_type": "code",
      "metadata": {
        "id": "hBXoxmB4Gx2b",
        "colab_type": "code",
        "colab": {
          "base_uri": "https://localhost:8080/",
          "height": 34
        },
        "outputId": "da2fe9ee-2556-40f4-cd20-376dd4a178a9"
      },
      "source": [
        "x = seq[0][1] # The second input feature of the first sequence\n",
        "\n",
        "h2 = torch.tanh(Tensor(x*wih + whh*h1))  \n",
        "h2"
      ],
      "execution_count": 75,
      "outputs": [
        {
          "output_type": "execute_result",
          "data": {
            "text/plain": [
              "tensor([[0.9733]], grad_fn=<TanhBackward>)"
            ]
          },
          "metadata": {
            "tags": []
          },
          "execution_count": 75
        }
      ]
    },
    {
      "cell_type": "markdown",
      "metadata": {
        "id": "UDS5goTXH5GC",
        "colab_type": "text"
      },
      "source": [
        "#### Hidden State 3"
      ]
    },
    {
      "cell_type": "code",
      "metadata": {
        "id": "YrfLNgZ_xpg8",
        "colab_type": "code",
        "colab": {
          "base_uri": "https://localhost:8080/",
          "height": 34
        },
        "outputId": "ccf84379-36d6-4388-ea16-d8f13ce10453"
      },
      "source": [
        "x = seq[0][2] # The third and last input feature of the first sequence\n",
        "\n",
        "h3 = torch.tanh(Tensor(x*wih + whh*h2))  \n",
        "h3"
      ],
      "execution_count": 76,
      "outputs": [
        {
          "output_type": "execute_result",
          "data": {
            "text/plain": [
              "tensor([[0.9909]], grad_fn=<TanhBackward>)"
            ]
          },
          "metadata": {
            "tags": []
          },
          "execution_count": 76
        }
      ]
    },
    {
      "cell_type": "markdown",
      "metadata": {
        "id": "-qT5cbT8IBEE",
        "colab_type": "text"
      },
      "source": [
        "We can observe that :\n",
        "\n",
        "\n",
        "1.   RNN does a very basic computation repeatedly on all features of the given sequence\n",
        "2.   The output at a particular time stamp depends on the outputs at a previous time stamp\n",
        "\n"
      ]
    },
    {
      "cell_type": "markdown",
      "metadata": {
        "id": "oozJlmMCIuyt",
        "colab_type": "text"
      },
      "source": [
        "## **Adding more features**"
      ]
    },
    {
      "cell_type": "markdown",
      "metadata": {
        "id": "Vb_DnIbZI6L4",
        "colab_type": "text"
      },
      "source": [
        "We increase the complexity of the RNN computation by increasing the number of features at each sequence time stamp. Previously, each time stamp was represented by a single value. Now, we expand that to be represented by a feature vector"
      ]
    },
    {
      "cell_type": "code",
      "metadata": {
        "id": "7hdexyf305N3",
        "colab_type": "code",
        "colab": {
          "base_uri": "https://localhost:8080/",
          "height": 34
        },
        "outputId": "7cdac644-c2ea-4a8d-cbb4-434b6ee456cf"
      },
      "source": [
        "seq = Tensor([[1,1,1],[1,2,1],[2,3,1], [1,3,1]])\n",
        "\n",
        "seq = seq.unsqueeze(0)\n",
        "\n",
        "seq.shape"
      ],
      "execution_count": 116,
      "outputs": [
        {
          "output_type": "execute_result",
          "data": {
            "text/plain": [
              "torch.Size([1, 4, 3])"
            ]
          },
          "metadata": {
            "tags": []
          },
          "execution_count": 116
        }
      ]
    },
    {
      "cell_type": "markdown",
      "metadata": {
        "id": "_W-hZ7OAJddV",
        "colab_type": "text"
      },
      "source": [
        "The `seq` variable represents a sequence of length 4, where each element (time-stamp) is represented by a feature vector of length 3.\n",
        "\n",
        "We next define a RNN layer where we set `input_size` to be 3. This time, we also set `bias` to be True, so that we include a bias term in our calculations"
      ]
    },
    {
      "cell_type": "code",
      "metadata": {
        "id": "UoUZona7zzVM",
        "colab_type": "code",
        "colab": {}
      },
      "source": [
        "# Defining a basic RNN layer\n",
        "rnn= nn.RNN(input_size=3, hidden_size=1, num_layers = 1, bias = True, batch_first=True)"
      ],
      "execution_count": 0,
      "outputs": []
    },
    {
      "cell_type": "code",
      "metadata": {
        "id": "Z8Td-U4cJVBU",
        "colab_type": "code",
        "colab": {
          "base_uri": "https://localhost:8080/",
          "height": 51
        },
        "outputId": "8c595ef9-6f24-4d41-9fa9-eab35906d00a"
      },
      "source": [
        "out_all, out_last = rnn(seq)\n",
        "\n",
        "print(f\"Out all shape : {out_all.shape}\")\n",
        "\n",
        "print(f\"Out last shape : {out_last.shape}\")"
      ],
      "execution_count": 118,
      "outputs": [
        {
          "output_type": "stream",
          "text": [
            "Out all shape : torch.Size([1, 4, 1])\n",
            "Out last shape : torch.Size([1, 1, 1])\n"
          ],
          "name": "stdout"
        }
      ]
    },
    {
      "cell_type": "markdown",
      "metadata": {
        "id": "LeIHQJvmKNGb",
        "colab_type": "text"
      },
      "source": [
        "### **Computing outputs**"
      ]
    },
    {
      "cell_type": "code",
      "metadata": {
        "id": "gTeW0CvLJVln",
        "colab_type": "code",
        "colab": {
          "base_uri": "https://localhost:8080/",
          "height": 85
        },
        "outputId": "c0eab165-5ed0-4542-be77-7df9da4a6477"
      },
      "source": [
        "out_all"
      ],
      "execution_count": 119,
      "outputs": [
        {
          "output_type": "execute_result",
          "data": {
            "text/plain": [
              "tensor([[[0.2149],\n",
              "         [0.7819],\n",
              "         [0.9865],\n",
              "         [0.9831]]], grad_fn=<TransposeBackward1>)"
            ]
          },
          "metadata": {
            "tags": []
          },
          "execution_count": 119
        }
      ]
    },
    {
      "cell_type": "markdown",
      "metadata": {
        "id": "7gvu8TWsLFfc",
        "colab_type": "text"
      },
      "source": [
        "#### Hidden State 1\n",
        "\n",
        "A minor modification compared to the previous code is that we will be using dot multiplication to multiply $x$ with $W_{ih}$ and $h_{t-1}$ with $W_{hh}$."
      ]
    },
    {
      "cell_type": "code",
      "metadata": {
        "id": "gfd3RJyqKRtk",
        "colab_type": "code",
        "colab": {
          "base_uri": "https://localhost:8080/",
          "height": 34
        },
        "outputId": "c4a7cd0e-c1e5-41c5-d8a6-abd866c4c848"
      },
      "source": [
        "wih = rnn.weight_ih_l0.squeeze(0)\n",
        "whh = rnn.weight_hh_l0.squeeze(0)\n",
        "\n",
        "bih = rnn.bias_ih_l0\n",
        "bhh = rnn.bias_hh_l0\n",
        "\n",
        "x = seq[0][0] # The first input feature of the first sequence\n",
        "\n",
        "# Computing thw hidden state for time = 1\n",
        "h1 = torch.tanh(Tensor(dot(x,wih) + bih  + dot(whh,Tensor([0.0])) + bhh))  \n",
        "h1"
      ],
      "execution_count": 120,
      "outputs": [
        {
          "output_type": "execute_result",
          "data": {
            "text/plain": [
              "tensor([0.2149], grad_fn=<TanhBackward>)"
            ]
          },
          "metadata": {
            "tags": []
          },
          "execution_count": 120
        }
      ]
    },
    {
      "cell_type": "markdown",
      "metadata": {
        "id": "QuVbCEfkNePG",
        "colab_type": "text"
      },
      "source": [
        "#### Hidden State 2"
      ]
    },
    {
      "cell_type": "code",
      "metadata": {
        "id": "KJ1hqR6YLO68",
        "colab_type": "code",
        "colab": {
          "base_uri": "https://localhost:8080/",
          "height": 34
        },
        "outputId": "fc586f67-63fd-4f90-d420-a8dbf6136a0b"
      },
      "source": [
        "x = seq[0][1] # The first input feature of the first sequence\n",
        "\n",
        "# Computing thw hidden state for time = 1\n",
        "h2 = torch.tanh(Tensor(dot(x,wih) + bih  + dot(h1,whh) + bhh))  \n",
        "h2"
      ],
      "execution_count": 121,
      "outputs": [
        {
          "output_type": "execute_result",
          "data": {
            "text/plain": [
              "tensor([0.7819], grad_fn=<TanhBackward>)"
            ]
          },
          "metadata": {
            "tags": []
          },
          "execution_count": 121
        }
      ]
    },
    {
      "cell_type": "markdown",
      "metadata": {
        "id": "uTwgghljPJiS",
        "colab_type": "text"
      },
      "source": [
        "#### Computing all states\n",
        "\n",
        "We automate the manual computation of hidden states to verify our computation matches with the RNN layer output"
      ]
    },
    {
      "cell_type": "code",
      "metadata": {
        "id": "o9BJrOrLNyld",
        "colab_type": "code",
        "colab": {}
      },
      "source": [
        "output = []\n",
        "\n",
        "h_previous = Tensor([0.0])\n",
        "\n",
        "for i in range(seq.shape[1]):\n",
        "\n",
        "  if i == 0:\n",
        "    x = seq[0][i]\n",
        "    h_current = torch.tanh(Tensor(dot(x,wih) + bih  + dot(h_previous,whh) + bhh))\n",
        "    h_previous = h_current\n",
        "    output.append(h_current.detach().numpy())\n",
        "\n",
        "  else:\n",
        "    x = seq[0][i]\n",
        "    h_current = torch.tanh(Tensor(dot(x,wih) + bih  + dot(h_previous,whh) + bhh))\n",
        "    h_previous = h_current\n",
        "    output.append(h_current.detach().numpy())\n",
        "\n"
      ],
      "execution_count": 0,
      "outputs": []
    },
    {
      "cell_type": "code",
      "metadata": {
        "id": "SQka48mALbB-",
        "colab_type": "code",
        "colab": {
          "base_uri": "https://localhost:8080/",
          "height": 85
        },
        "outputId": "426d8988-3e58-4194-8e59-3d4f6cc6f1bd"
      },
      "source": [
        "output"
      ],
      "execution_count": 133,
      "outputs": [
        {
          "output_type": "execute_result",
          "data": {
            "text/plain": [
              "[array([0.21494365], dtype=float32),\n",
              " array([0.7818633], dtype=float32),\n",
              " array([0.98649365], dtype=float32),\n",
              " array([0.98313564], dtype=float32)]"
            ]
          },
          "metadata": {
            "tags": []
          },
          "execution_count": 133
        }
      ]
    },
    {
      "cell_type": "markdown",
      "metadata": {
        "id": "YGZPYLGqPwKu",
        "colab_type": "text"
      },
      "source": [
        "## **Increasing Hidden Size**\n",
        "\n",
        "Till now, we had `hidden_size` parameter fixed at 1. We increase this value and see how it affects the RNN computation"
      ]
    },
    {
      "cell_type": "code",
      "metadata": {
        "id": "7beddyCKMI0e",
        "colab_type": "code",
        "colab": {}
      },
      "source": [
        "# Defining the RNN layer\n",
        "rnn= nn.RNN(input_size=3, hidden_size=2, num_layers = 1, bias = True, batch_first=True)"
      ],
      "execution_count": 0,
      "outputs": []
    },
    {
      "cell_type": "code",
      "metadata": {
        "id": "YltCLVvGPq2y",
        "colab_type": "code",
        "colab": {
          "base_uri": "https://localhost:8080/",
          "height": 51
        },
        "outputId": "15beddf5-867e-4888-a46d-61fbbf9147ec"
      },
      "source": [
        "out_all, out_last = rnn(seq)\n",
        "\n",
        "print(f\"Out all shape : {out_all.shape}\")\n",
        "\n",
        "print(f\"Out last shape : {out_last.shape}\")"
      ],
      "execution_count": 140,
      "outputs": [
        {
          "output_type": "stream",
          "text": [
            "Out all shape : torch.Size([1, 4, 2])\n",
            "Out last shape : torch.Size([1, 1, 2])\n"
          ],
          "name": "stdout"
        }
      ]
    },
    {
      "cell_type": "markdown",
      "metadata": {
        "id": "BjOUtG4IQHwF",
        "colab_type": "text"
      },
      "source": [
        "We can see from the output shape that the size of the hidden states has increased to 2, corresponding to the increase in the `hidden_size` parameter to 2"
      ]
    },
    {
      "cell_type": "code",
      "metadata": {
        "id": "BBF4abj1QFlj",
        "colab_type": "code",
        "colab": {
          "base_uri": "https://localhost:8080/",
          "height": 119
        },
        "outputId": "fcd0967b-e8f1-4876-b132-20a7b7fbbd2c"
      },
      "source": [
        "rnn.state_dict()"
      ],
      "execution_count": 141,
      "outputs": [
        {
          "output_type": "execute_result",
          "data": {
            "text/plain": [
              "OrderedDict([('weight_ih_l0', tensor([[ 0.2020, -0.3842, -0.4155],\n",
              "                      [ 0.0146, -0.5546,  0.2592]])),\n",
              "             ('weight_hh_l0', tensor([[ 0.4147, -0.3529],\n",
              "                      [-0.1547,  0.1795]])),\n",
              "             ('bias_ih_l0', tensor([ 0.6311, -0.2717])),\n",
              "             ('bias_hh_l0', tensor([-0.4247, -0.2052]))])"
            ]
          },
          "metadata": {
            "tags": []
          },
          "execution_count": 141
        }
      ]
    },
    {
      "cell_type": "markdown",
      "metadata": {
        "id": "qzBpIPL6Qgma",
        "colab_type": "text"
      },
      "source": [
        "Similarly, the RNN layer weight shapes have also changed in response to the new `hidden_size` parameter value"
      ]
    },
    {
      "cell_type": "markdown",
      "metadata": {
        "id": "GfBfGgHqQspJ",
        "colab_type": "text"
      },
      "source": [
        "### **Computing outputs**\n",
        "\n",
        "On increasing the `hidden_size` parameter to 2, we are essentially increase the size of the hidden states computed for each time-stamp. This essentially allows the hidden states to be more expressive and store more information."
      ]
    },
    {
      "cell_type": "code",
      "metadata": {
        "id": "AXR_kikRQcDY",
        "colab_type": "code",
        "colab": {
          "base_uri": "https://localhost:8080/",
          "height": 85
        },
        "outputId": "47015727-1810-4344-a810-8a1126dcfff0"
      },
      "source": [
        "out_all"
      ],
      "execution_count": 142,
      "outputs": [
        {
          "output_type": "execute_result",
          "data": {
            "text/plain": [
              "tensor([[[-0.3725, -0.6397],\n",
              "         [-0.6070, -0.8786],\n",
              "         [-0.7160, -0.9576],\n",
              "         [-0.8071, -0.9586]]], grad_fn=<TransposeBackward1>)"
            ]
          },
          "metadata": {
            "tags": []
          },
          "execution_count": 142
        }
      ]
    },
    {
      "cell_type": "markdown",
      "metadata": {
        "id": "KplxNUTUQxLB",
        "colab_type": "text"
      },
      "source": [
        "#### Hidden State 1"
      ]
    },
    {
      "cell_type": "code",
      "metadata": {
        "id": "lNkHKDhuQvly",
        "colab_type": "code",
        "colab": {
          "base_uri": "https://localhost:8080/",
          "height": 34
        },
        "outputId": "6028520d-2090-4420-a535-6e9601b49de2"
      },
      "source": [
        "wih = rnn.weight_ih_l0\n",
        "whh = rnn.weight_hh_l0\n",
        "\n",
        "bih = rnn.bias_ih_l0\n",
        "bhh = rnn.bias_hh_l0\n",
        "\n",
        "x = seq[0][0] # The first input feature of the first sequence\n",
        "\n",
        "# Computing thw hidden state for time = 1\n",
        "h1 = torch.tanh(Tensor(matmul(x,wih.T) + bih  + matmul( torch.zeros([1,2]) , whh.T ) + bhh))  \n",
        "h1"
      ],
      "execution_count": 159,
      "outputs": [
        {
          "output_type": "execute_result",
          "data": {
            "text/plain": [
              "tensor([[-0.3725, -0.6397]], grad_fn=<TanhBackward>)"
            ]
          },
          "metadata": {
            "tags": []
          },
          "execution_count": 159
        }
      ]
    },
    {
      "cell_type": "markdown",
      "metadata": {
        "id": "leF2yiADSlmE",
        "colab_type": "text"
      },
      "source": [
        "#### Computing for all states"
      ]
    },
    {
      "cell_type": "code",
      "metadata": {
        "id": "1sZsLPr0S0u3",
        "colab_type": "code",
        "colab": {}
      },
      "source": [
        "output = []\n",
        "\n",
        "h_previous = torch.zeros([1,2])  # Since the hidden_size parameter is 2, all hidden states will have a shape of [1,2]\n",
        "\n",
        "for i in range(seq.shape[1]):\n",
        "\n",
        "  x = seq[0][i]\n",
        "  h_current = torch.tanh(Tensor(matmul(x,wih.T) + bih  + matmul(h_previous,whh.T) + bhh))\n",
        "  h_previous = h_current\n",
        "  output.append(h_current)\n",
        "\n",
        "\n"
      ],
      "execution_count": 0,
      "outputs": []
    },
    {
      "cell_type": "code",
      "metadata": {
        "id": "1dpQMVyNRK3m",
        "colab_type": "code",
        "colab": {
          "base_uri": "https://localhost:8080/",
          "height": 85
        },
        "outputId": "7aa9d167-a8ff-4b74-fec4-1109f7bb2b64"
      },
      "source": [
        "output"
      ],
      "execution_count": 164,
      "outputs": [
        {
          "output_type": "execute_result",
          "data": {
            "text/plain": [
              "[tensor([[-0.3725, -0.6397]], grad_fn=<TanhBackward>),\n",
              " tensor([[-0.6070, -0.8786]], grad_fn=<TanhBackward>),\n",
              " tensor([[-0.7160, -0.9576]], grad_fn=<TanhBackward>),\n",
              " tensor([[-0.8071, -0.9586]], grad_fn=<TanhBackward>)]"
            ]
          },
          "metadata": {
            "tags": []
          },
          "execution_count": 164
        }
      ]
    },
    {
      "cell_type": "markdown",
      "metadata": {
        "id": "8XYJH7ufTlcd",
        "colab_type": "text"
      },
      "source": [
        "## **Building a Bi-Directional RNN**"
      ]
    },
    {
      "cell_type": "code",
      "metadata": {
        "id": "3jgVpIJDTk0Z",
        "colab_type": "code",
        "colab": {}
      },
      "source": [
        "# Defining the RNN layer\n",
        "rnn= nn.RNN(input_size=3, hidden_size=2, num_layers = 1, bias = True, batch_first=True, bidirectional=True)"
      ],
      "execution_count": 0,
      "outputs": []
    },
    {
      "cell_type": "code",
      "metadata": {
        "id": "Jhh3b2OwTvim",
        "colab_type": "code",
        "colab": {
          "base_uri": "https://localhost:8080/",
          "height": 51
        },
        "outputId": "48e819da-4dd2-4364-e585-b6be06670d33"
      },
      "source": [
        "out_all, out_last = rnn(seq)\n",
        "\n",
        "print(f\"Out all shape : {out_all.shape}\")\n",
        "\n",
        "print(f\"Out last shape : {out_last.shape}\")"
      ],
      "execution_count": 167,
      "outputs": [
        {
          "output_type": "stream",
          "text": [
            "Out all shape : torch.Size([1, 4, 4])\n",
            "Out last shape : torch.Size([2, 1, 2])\n"
          ],
          "name": "stdout"
        }
      ]
    },
    {
      "cell_type": "code",
      "metadata": {
        "id": "7TsBEhHQTx0w",
        "colab_type": "code",
        "colab": {
          "base_uri": "https://localhost:8080/",
          "height": 85
        },
        "outputId": "2aa4712d-f1e1-40e7-fb2d-9c8b03f8d7e5"
      },
      "source": [
        "out_all"
      ],
      "execution_count": 168,
      "outputs": [
        {
          "output_type": "execute_result",
          "data": {
            "text/plain": [
              "tensor([[[ 0.8117, -0.4865,  0.4549,  0.4985],\n",
              "         [-0.0333, -0.6678,  0.3855,  0.6282],\n",
              "         [ 0.4834, -0.8639,  0.1292,  0.3069],\n",
              "         [-0.3773, -0.8821,  0.2727,  0.7177]]], grad_fn=<TransposeBackward1>)"
            ]
          },
          "metadata": {
            "tags": []
          },
          "execution_count": 168
        }
      ]
    },
    {
      "cell_type": "code",
      "metadata": {
        "id": "dLgB31A3T8yq",
        "colab_type": "code",
        "colab": {
          "base_uri": "https://localhost:8080/",
          "height": 68
        },
        "outputId": "359d2bef-aefb-40c3-bd21-021cea3a206c"
      },
      "source": [
        "out_last"
      ],
      "execution_count": 169,
      "outputs": [
        {
          "output_type": "execute_result",
          "data": {
            "text/plain": [
              "tensor([[[-0.3773, -0.8821]],\n",
              "\n",
              "        [[ 0.4549,  0.4985]]], grad_fn=<StackBackward>)"
            ]
          },
          "metadata": {
            "tags": []
          },
          "execution_count": 169
        }
      ]
    },
    {
      "cell_type": "code",
      "metadata": {
        "id": "rqHXEQ3GUAHb",
        "colab_type": "code",
        "colab": {
          "base_uri": "https://localhost:8080/",
          "height": 221
        },
        "outputId": "0c64d880-afe5-47d3-fb33-c197ca49fd38"
      },
      "source": [
        "rnn.state_dict()"
      ],
      "execution_count": 170,
      "outputs": [
        {
          "output_type": "execute_result",
          "data": {
            "text/plain": [
              "OrderedDict([('weight_ih_l0', tensor([[ 0.5186, -0.4766,  0.1410],\n",
              "                      [ 0.2750, -0.6602, -0.6266]])),\n",
              "             ('weight_hh_l0', tensor([[-0.6757,  0.2885],\n",
              "                      [ 0.2265, -0.4132]])),\n",
              "             ('bias_ih_l0', tensor([0.6045, 0.0802])),\n",
              "             ('bias_hh_l0', tensor([0.3446, 0.4002])),\n",
              "             ('weight_ih_l0_reverse', tensor([[-0.1216, -0.1432,  0.3163],\n",
              "                      [-0.6950,  0.2082,  0.1613]])),\n",
              "             ('weight_hh_l0_reverse', tensor([[-0.3441,  0.0915],\n",
              "                      [-0.2372,  0.2422]])),\n",
              "             ('bias_ih_l0_reverse', tensor([0.3067, 0.6804])),\n",
              "             ('bias_hh_l0_reverse', tensor([0.2079, 0.1318]))])"
            ]
          },
          "metadata": {
            "tags": []
          },
          "execution_count": 170
        }
      ]
    },
    {
      "cell_type": "markdown",
      "metadata": {
        "id": "zt_SvzJtUrN0",
        "colab_type": "text"
      },
      "source": [
        "### **Computing outputs - Forward Direction** \n",
        "\n",
        "For a bidirectional RNN layer with a hidden layer size of 2 and an input sequence of length 4, we get an output of size 4x4.\n",
        "\n",
        "In the output, each row essentially captures the hidden state corresponding to a given time-stamp. In the previous example, each time stamp was represented by a vector of length 2 (because `hidden_size` = 2). Now, since its bidirectional, each hidden state is represented by a vector of length 4 ( 2 + 2)\n",
        "\n",
        "\n",
        "For each timestamp, the first 2 values correspond to the forward run of the RNN and the last 2 values correspond to the backward run of the RNN."
      ]
    },
    {
      "cell_type": "code",
      "metadata": {
        "id": "TMNnHv21fjIf",
        "colab_type": "code",
        "colab": {
          "base_uri": "https://localhost:8080/",
          "height": 85
        },
        "outputId": "a0e93fa6-edc2-4c7e-bfb7-a74ade4cdf4d"
      },
      "source": [
        "out_all"
      ],
      "execution_count": 193,
      "outputs": [
        {
          "output_type": "execute_result",
          "data": {
            "text/plain": [
              "tensor([[[ 0.8117, -0.4865,  0.4549,  0.4985],\n",
              "         [-0.0333, -0.6678,  0.3855,  0.6282],\n",
              "         [ 0.4834, -0.8639,  0.1292,  0.3069],\n",
              "         [-0.3773, -0.8821,  0.2727,  0.7177]]], grad_fn=<TransposeBackward1>)"
            ]
          },
          "metadata": {
            "tags": []
          },
          "execution_count": 193
        }
      ]
    },
    {
      "cell_type": "markdown",
      "metadata": {
        "id": "_R71xsGYUx3p",
        "colab_type": "text"
      },
      "source": [
        "#### Hidden State 1 - Forward Direction"
      ]
    },
    {
      "cell_type": "code",
      "metadata": {
        "id": "90GtkAzKUlU3",
        "colab_type": "code",
        "colab": {
          "base_uri": "https://localhost:8080/",
          "height": 34
        },
        "outputId": "d17db2c4-70ce-4a16-f59f-70b490a24f13"
      },
      "source": [
        "wih = rnn.weight_ih_l0\n",
        "whh = rnn.weight_hh_l0\n",
        "\n",
        "bih = rnn.bias_ih_l0\n",
        "bhh = rnn.bias_hh_l0\n",
        "\n",
        "# We represent all reverse weights using a '_' suffix\n",
        "wih_ = rnn.weight_ih_l0_reverse\n",
        "whh_ = rnn.weight_hh_l0_reverse\n",
        "\n",
        "bih_ = rnn.bias_ih_l0_reverse\n",
        "bhh_ = rnn.bias_hh_l0_reverse\n",
        "\n",
        "x = seq[0][0] # The first input feature of the first sequence\n",
        "\n",
        "# Computing thw hidden state for time = 1\n",
        "h1 = torch.tanh(Tensor(matmul(x,wih.T) + bih  + matmul( torch.zeros([1,2]) , whh.T ) + bhh))  \n",
        "h1\n"
      ],
      "execution_count": 194,
      "outputs": [
        {
          "output_type": "execute_result",
          "data": {
            "text/plain": [
              "tensor([[ 0.8117, -0.4865]], grad_fn=<TanhBackward>)"
            ]
          },
          "metadata": {
            "tags": []
          },
          "execution_count": 194
        }
      ]
    },
    {
      "cell_type": "markdown",
      "metadata": {
        "id": "af01UA3Oqhqd",
        "colab_type": "text"
      },
      "source": [
        "#### Computing all states - Forward Direction"
      ]
    },
    {
      "cell_type": "code",
      "metadata": {
        "id": "ykBJY-6VVFdg",
        "colab_type": "code",
        "colab": {
          "base_uri": "https://localhost:8080/",
          "height": 85
        },
        "outputId": "dc4482f4-4fad-4c69-d383-69581449db91"
      },
      "source": [
        "output = []\n",
        "\n",
        "h_previous = torch.zeros([1,2])  # Since the hidden_size parameter is 2, all hidden states will have a shape of [1,2]\n",
        "\n",
        "for i in range(seq.shape[1]):\n",
        "\n",
        "  x = seq[0][i]\n",
        "  h_current = torch.tanh(Tensor(matmul(x,wih.T) + bih  + matmul(h_previous,whh.T) + bhh))\n",
        "  h_previous = h_current\n",
        "  output.append(h_current)\n",
        "\n",
        "\n",
        "output"
      ],
      "execution_count": 174,
      "outputs": [
        {
          "output_type": "execute_result",
          "data": {
            "text/plain": [
              "[tensor([[ 0.8117, -0.4865]], grad_fn=<TanhBackward>),\n",
              " tensor([[-0.0333, -0.6678]], grad_fn=<TanhBackward>),\n",
              " tensor([[ 0.4834, -0.8639]], grad_fn=<TanhBackward>),\n",
              " tensor([[-0.3773, -0.8821]], grad_fn=<TanhBackward>)]"
            ]
          },
          "metadata": {
            "tags": []
          },
          "execution_count": 174
        }
      ]
    },
    {
      "cell_type": "markdown",
      "metadata": {
        "id": "bW69y2okraB3",
        "colab_type": "text"
      },
      "source": [
        "At this stage, we can compare the computed hidden states with the RNN layer output `out_all`. We can observe that computed states match to the first 2 elements of all the RNN layer outputs"
      ]
    },
    {
      "cell_type": "code",
      "metadata": {
        "id": "JdpuayH8foHQ",
        "colab_type": "code",
        "colab": {
          "base_uri": "https://localhost:8080/",
          "height": 85
        },
        "outputId": "1c3efe2a-b107-417c-8018-ae2bcfef91d8"
      },
      "source": [
        "out_all[:,:,:2]"
      ],
      "execution_count": 177,
      "outputs": [
        {
          "output_type": "execute_result",
          "data": {
            "text/plain": [
              "tensor([[[ 0.8117, -0.4865],\n",
              "         [-0.0333, -0.6678],\n",
              "         [ 0.4834, -0.8639],\n",
              "         [-0.3773, -0.8821]]], grad_fn=<SliceBackward>)"
            ]
          },
          "metadata": {
            "tags": []
          },
          "execution_count": 177
        }
      ]
    },
    {
      "cell_type": "markdown",
      "metadata": {
        "id": "ne-5OQ5Tw6b5",
        "colab_type": "text"
      },
      "source": [
        "### **Computing Outputs - Backward Direction**"
      ]
    },
    {
      "cell_type": "markdown",
      "metadata": {
        "id": "upca8GrGsNXR",
        "colab_type": "text"
      },
      "source": [
        "#### Hidden State 1 - Backward direction"
      ]
    },
    {
      "cell_type": "code",
      "metadata": {
        "id": "OOc-joZtrrhe",
        "colab_type": "code",
        "colab": {
          "base_uri": "https://localhost:8080/",
          "height": 34
        },
        "outputId": "0131a779-b4f5-4452-fb46-08b22220875a"
      },
      "source": [
        "x = seq[0][-1] # The very last element of the sequence is now treated as the first element in the backward run\n",
        "\n",
        "# Computing thw hidden state for time = 4\n",
        "h4_ = torch.tanh(Tensor(matmul(x,wih_.T) + bih_  + matmul( torch.zeros([1,2]) , whh_.T ) + bhh_))  \n",
        "h4_\n"
      ],
      "execution_count": 190,
      "outputs": [
        {
          "output_type": "execute_result",
          "data": {
            "text/plain": [
              "tensor([[0.2727, 0.7177]], grad_fn=<TanhBackward>)"
            ]
          },
          "metadata": {
            "tags": []
          },
          "execution_count": 190
        }
      ]
    },
    {
      "cell_type": "markdown",
      "metadata": {
        "id": "q-F07utxs_nD",
        "colab_type": "text"
      },
      "source": [
        "#### Hidden State 2 - Backward direction"
      ]
    },
    {
      "cell_type": "code",
      "metadata": {
        "id": "puhmMxodtC0U",
        "colab_type": "code",
        "colab": {
          "base_uri": "https://localhost:8080/",
          "height": 34
        },
        "outputId": "3cd6fa20-ff92-4b33-a0f4-31b08be9a0be"
      },
      "source": [
        "x = seq[0][-2] \n",
        "\n",
        "# Computing thw hidden state for time = 3\n",
        "h3_ = torch.tanh(Tensor(matmul(x,wih_.T) + bih_  + matmul( h4_ , whh_.T ) + bhh_))  \n",
        "h3_\n"
      ],
      "execution_count": 195,
      "outputs": [
        {
          "output_type": "execute_result",
          "data": {
            "text/plain": [
              "tensor([[0.1292, 0.3069]], grad_fn=<TanhBackward>)"
            ]
          },
          "metadata": {
            "tags": []
          },
          "execution_count": 195
        }
      ]
    },
    {
      "cell_type": "markdown",
      "metadata": {
        "id": "B98x-5IlvZmZ",
        "colab_type": "text"
      },
      "source": [
        "#### Hidden State 3 - Backward direction"
      ]
    },
    {
      "cell_type": "code",
      "metadata": {
        "id": "aK0ZdtGYtC3R",
        "colab_type": "code",
        "colab": {
          "base_uri": "https://localhost:8080/",
          "height": 34
        },
        "outputId": "700b6640-91ff-4fb8-d722-dd04df1e2932"
      },
      "source": [
        "x = seq[0][-3] \n",
        "\n",
        "# Computing thw hidden state for time = 3\n",
        "h2_ = torch.tanh(Tensor(matmul(x,wih_.T) + bih_  + matmul( h3_ , whh_.T ) + bhh_))  \n",
        "h2_\n"
      ],
      "execution_count": 196,
      "outputs": [
        {
          "output_type": "execute_result",
          "data": {
            "text/plain": [
              "tensor([[0.3855, 0.6282]], grad_fn=<TanhBackward>)"
            ]
          },
          "metadata": {
            "tags": []
          },
          "execution_count": 196
        }
      ]
    },
    {
      "cell_type": "markdown",
      "metadata": {
        "id": "4ImcG2Tpvd7r",
        "colab_type": "text"
      },
      "source": [
        "#### Hidden State 4 - Backward direction"
      ]
    },
    {
      "cell_type": "code",
      "metadata": {
        "id": "gjWVsIkSvgdI",
        "colab_type": "code",
        "colab": {
          "base_uri": "https://localhost:8080/",
          "height": 34
        },
        "outputId": "e6002138-13b1-4d0a-b25d-22af6da29771"
      },
      "source": [
        "x = seq[0][-4] \n",
        "\n",
        "# Computing thw hidden state for time = 3\n",
        "h1_ = torch.tanh(Tensor(matmul(x,wih_.T) + bih_  + matmul( h2_ , whh_.T ) + bhh_))  \n",
        "h1_\n"
      ],
      "execution_count": 197,
      "outputs": [
        {
          "output_type": "execute_result",
          "data": {
            "text/plain": [
              "tensor([[0.4549, 0.4985]], grad_fn=<TanhBackward>)"
            ]
          },
          "metadata": {
            "tags": []
          },
          "execution_count": 197
        }
      ]
    },
    {
      "cell_type": "code",
      "metadata": {
        "id": "fBFjqx3Ovm8W",
        "colab_type": "code",
        "colab": {
          "base_uri": "https://localhost:8080/",
          "height": 85
        },
        "outputId": "0148b1d6-c4ee-450f-d97d-50ee519e1444"
      },
      "source": [
        "output_ = [h1_,h2_,h3_,h4_]\n",
        "output_"
      ],
      "execution_count": 199,
      "outputs": [
        {
          "output_type": "execute_result",
          "data": {
            "text/plain": [
              "[tensor([[0.4549, 0.4985]], grad_fn=<TanhBackward>),\n",
              " tensor([[0.3855, 0.6282]], grad_fn=<TanhBackward>),\n",
              " tensor([[0.1292, 0.3069]], grad_fn=<TanhBackward>),\n",
              " tensor([[0.2727, 0.7177]], grad_fn=<TanhBackward>)]"
            ]
          },
          "metadata": {
            "tags": []
          },
          "execution_count": 199
        }
      ]
    },
    {
      "cell_type": "code",
      "metadata": {
        "id": "6msSr2Tgrvr3",
        "colab_type": "code",
        "colab": {
          "base_uri": "https://localhost:8080/",
          "height": 85
        },
        "outputId": "5f606d67-746d-433f-afe2-9f60301a602c"
      },
      "source": [
        "out_all[:,:,2:]   #Checking only the 2nd half of the RNN layer output"
      ],
      "execution_count": 209,
      "outputs": [
        {
          "output_type": "execute_result",
          "data": {
            "text/plain": [
              "tensor([[[0.4549, 0.4985],\n",
              "         [0.3855, 0.6282],\n",
              "         [0.1292, 0.3069],\n",
              "         [0.2727, 0.7177]]], grad_fn=<SliceBackward>)"
            ]
          },
          "metadata": {
            "tags": []
          },
          "execution_count": 209
        }
      ]
    },
    {
      "cell_type": "markdown",
      "metadata": {
        "id": "USl9f4_FwYN1",
        "colab_type": "text"
      },
      "source": [
        "The final RNN layer output is the concatentation of hidden states from both the forward and backward runs. On doing so, we can compare our manually computed results with the RNN layer output"
      ]
    },
    {
      "cell_type": "code",
      "metadata": {
        "id": "thI9zWszv-C3",
        "colab_type": "code",
        "colab": {}
      },
      "source": [
        "fullOutput = [ torch.cat( (output[i], output_[i]),1)  for i in range(4) ]"
      ],
      "execution_count": 0,
      "outputs": []
    },
    {
      "cell_type": "code",
      "metadata": {
        "id": "ZnIRYJo4wB7q",
        "colab_type": "code",
        "colab": {
          "base_uri": "https://localhost:8080/",
          "height": 85
        },
        "outputId": "259a1ce5-bc85-452a-9d1d-99ebbb108e52"
      },
      "source": [
        "fullOutput"
      ],
      "execution_count": 207,
      "outputs": [
        {
          "output_type": "execute_result",
          "data": {
            "text/plain": [
              "[tensor([[ 0.8117, -0.4865,  0.4549,  0.4985]], grad_fn=<CatBackward>),\n",
              " tensor([[-0.0333, -0.6678,  0.3855,  0.6282]], grad_fn=<CatBackward>),\n",
              " tensor([[ 0.4834, -0.8639,  0.1292,  0.3069]], grad_fn=<CatBackward>),\n",
              " tensor([[-0.3773, -0.8821,  0.2727,  0.7177]], grad_fn=<CatBackward>)]"
            ]
          },
          "metadata": {
            "tags": []
          },
          "execution_count": 207
        }
      ]
    },
    {
      "cell_type": "code",
      "metadata": {
        "id": "wqvIReyUwS6J",
        "colab_type": "code",
        "colab": {
          "base_uri": "https://localhost:8080/",
          "height": 85
        },
        "outputId": "1bed521f-da43-4ce3-9d64-3675484be0e2"
      },
      "source": [
        "out_all"
      ],
      "execution_count": 208,
      "outputs": [
        {
          "output_type": "execute_result",
          "data": {
            "text/plain": [
              "tensor([[[ 0.8117, -0.4865,  0.4549,  0.4985],\n",
              "         [-0.0333, -0.6678,  0.3855,  0.6282],\n",
              "         [ 0.4834, -0.8639,  0.1292,  0.3069],\n",
              "         [-0.3773, -0.8821,  0.2727,  0.7177]]], grad_fn=<TransposeBackward1>)"
            ]
          },
          "metadata": {
            "tags": []
          },
          "execution_count": 208
        }
      ]
    },
    {
      "cell_type": "markdown",
      "metadata": {
        "id": "gxiu3OeWy82W",
        "colab_type": "text"
      },
      "source": [
        "## **Stacked RNNs**"
      ]
    },
    {
      "cell_type": "code",
      "metadata": {
        "id": "5X-sRoHRwT_t",
        "colab_type": "code",
        "colab": {}
      },
      "source": [
        "# Defining the RNN layer\n",
        "rnn= nn.RNN(input_size=3, hidden_size=3, num_layers = 2, bias = True, batch_first=True, bidirectional=False)"
      ],
      "execution_count": 0,
      "outputs": []
    },
    {
      "cell_type": "code",
      "metadata": {
        "id": "Uw_LFS22zIdJ",
        "colab_type": "code",
        "colab": {
          "base_uri": "https://localhost:8080/",
          "height": 51
        },
        "outputId": "23eeb0a9-876b-4587-cdab-64f8fcc49284"
      },
      "source": [
        "out_all, out_last = rnn(seq)\n",
        "\n",
        "print(f\"Out all shape : {out_all.shape}\")\n",
        "\n",
        "print(f\"Out last shape : {out_last.shape}\")"
      ],
      "execution_count": 230,
      "outputs": [
        {
          "output_type": "stream",
          "text": [
            "Out all shape : torch.Size([1, 4, 3])\n",
            "Out last shape : torch.Size([2, 1, 3])\n"
          ],
          "name": "stdout"
        }
      ]
    },
    {
      "cell_type": "code",
      "metadata": {
        "id": "L1IJ49-3zOC0",
        "colab_type": "code",
        "colab": {
          "base_uri": "https://localhost:8080/",
          "height": 85
        },
        "outputId": "3db5077a-4dd6-476f-f200-b8b9f0c78f6d"
      },
      "source": [
        "out_all"
      ],
      "execution_count": 231,
      "outputs": [
        {
          "output_type": "execute_result",
          "data": {
            "text/plain": [
              "tensor([[[ 0.0348, -0.2825,  0.5068],\n",
              "         [-0.0356, -0.2683,  0.6636],\n",
              "         [ 0.0149, -0.2029,  0.6910],\n",
              "         [ 0.0190, -0.2103,  0.6927]]], grad_fn=<TransposeBackward1>)"
            ]
          },
          "metadata": {
            "tags": []
          },
          "execution_count": 231
        }
      ]
    },
    {
      "cell_type": "code",
      "metadata": {
        "id": "hfw_S7AEzTYS",
        "colab_type": "code",
        "colab": {
          "base_uri": "https://localhost:8080/",
          "height": 68
        },
        "outputId": "793109ba-e910-4e8a-f090-b1d5354bd6a7"
      },
      "source": [
        "out_last"
      ],
      "execution_count": 232,
      "outputs": [
        {
          "output_type": "execute_result",
          "data": {
            "text/plain": [
              "tensor([[[ 0.7414,  0.9353,  0.8858]],\n",
              "\n",
              "        [[ 0.0190, -0.2103,  0.6927]]], grad_fn=<StackBackward>)"
            ]
          },
          "metadata": {
            "tags": []
          },
          "execution_count": 232
        }
      ]
    },
    {
      "cell_type": "code",
      "metadata": {
        "id": "nWfdQczczVBs",
        "colab_type": "code",
        "colab": {
          "base_uri": "https://localhost:8080/",
          "height": 289
        },
        "outputId": "56fe11ac-2684-4ae8-c7f9-0f84ad563e8f"
      },
      "source": [
        "rnn.state_dict()"
      ],
      "execution_count": 233,
      "outputs": [
        {
          "output_type": "execute_result",
          "data": {
            "text/plain": [
              "OrderedDict([('weight_ih_l0', tensor([[ 0.0130,  0.2709, -0.3058],\n",
              "                      [-0.4475,  0.3193,  0.4943],\n",
              "                      [ 0.2080,  0.0944, -0.2989]])),\n",
              "             ('weight_hh_l0', tensor([[ 0.4855,  0.0833, -0.1622],\n",
              "                      [-0.5323, -0.1938,  0.3005],\n",
              "                      [ 0.1978,  0.5410,  0.3437]])),\n",
              "             ('bias_ih_l0', tensor([-0.1454,  0.4145, -0.2442])),\n",
              "             ('bias_hh_l0', tensor([0.3113, 0.5509, 0.5318])),\n",
              "             ('weight_ih_l1', tensor([[ 0.0108,  0.3439,  0.4292],\n",
              "                      [-0.2595, -0.0296,  0.3443],\n",
              "                      [ 0.4159,  0.0034,  0.0543]])),\n",
              "             ('weight_hh_l1', tensor([[-0.5193,  0.3936, -0.3125],\n",
              "                      [-0.5299,  0.5054,  0.1984],\n",
              "                      [ 0.4348, -0.4416, -0.1205]])),\n",
              "             ('bias_ih_l1', tensor([-0.1728, -0.0305,  0.5360])),\n",
              "             ('bias_hh_l1', tensor([-0.2146, -0.2945, -0.0553]))])"
            ]
          },
          "metadata": {
            "tags": []
          },
          "execution_count": 233
        }
      ]
    },
    {
      "cell_type": "markdown",
      "metadata": {
        "id": "eriCaO5VzjPe",
        "colab_type": "text"
      },
      "source": [
        "### **Computing Outputs - Layer 1**"
      ]
    },
    {
      "cell_type": "code",
      "metadata": {
        "id": "e5PpKyp7zceP",
        "colab_type": "code",
        "colab": {
          "base_uri": "https://localhost:8080/",
          "height": 85
        },
        "outputId": "1d0f777f-1b4b-4499-e6c8-866b05d711a4"
      },
      "source": [
        "# Extracting the weights for RNN Layer 1\n",
        "wih_10 = rnn.weight_ih_l0\n",
        "whh_10 = rnn.weight_hh_l0\n",
        "\n",
        "bih_10 = rnn.bias_ih_l0\n",
        "bhh_10 = rnn.bias_hh_l0\n",
        "\n",
        "output_1 = []\n",
        "\n",
        "h_previous = torch.zeros([1,3])  # Since the hidden_size parameter is 3, all hidden states will have a shape of [1,3]\n",
        "\n",
        "for i in range(seq.shape[1]):\n",
        "\n",
        "  x = seq[0][i]\n",
        "  h_current = torch.tanh(Tensor(matmul(x,wih_10.T) + bih_10  + matmul(h_previous,whh_10.T) + bhh_10))\n",
        "  h_previous = h_current\n",
        "  output_1.append(h_current)\n",
        "\n",
        "output_1"
      ],
      "execution_count": 245,
      "outputs": [
        {
          "output_type": "execute_result",
          "data": {
            "text/plain": [
              "[tensor([[0.1430, 0.8696, 0.2832]], grad_fn=<TanhBackward>),\n",
              " tensor([[0.4706, 0.9036, 0.7538]], grad_fn=<TanhBackward>),\n",
              " tensor([[0.7066, 0.8677, 0.9102]], grad_fn=<TanhBackward>),\n",
              " tensor([[0.7414, 0.9353, 0.8858]], grad_fn=<TanhBackward>)]"
            ]
          },
          "metadata": {
            "tags": []
          },
          "execution_count": 245
        }
      ]
    },
    {
      "cell_type": "markdown",
      "metadata": {
        "id": "7_V4L8jX0iAS",
        "colab_type": "text"
      },
      "source": [
        "### **Computing Outputs - Layer 2**"
      ]
    },
    {
      "cell_type": "code",
      "metadata": {
        "id": "NDiktTrC0MeV",
        "colab_type": "code",
        "colab": {
          "base_uri": "https://localhost:8080/",
          "height": 85
        },
        "outputId": "dcef8a79-b7a8-4b9c-dd79-13455120e191"
      },
      "source": [
        "# Extracting the weights for RNN Layer 1\n",
        "wih_11 = rnn.weight_ih_l1\n",
        "whh_11 = rnn.weight_hh_l1\n",
        "\n",
        "bih_11 = rnn.bias_ih_l1\n",
        "bhh_11 = rnn.bias_hh_l1\n",
        "\n",
        "output_2 = []\n",
        "\n",
        "h_previous = torch.zeros([1,3]) # Since the hidden_size parameter is 2, all hidden states will have a shape of [1,2]\n",
        "\n",
        "for i in range(seq.shape[1]):\n",
        "  \n",
        "  x = seq[0][i]\n",
        "  h_current = torch.tanh(Tensor(matmul(output_1[i],wih_11.T) + bih_11  + matmul(h_previous,whh_11.T) + bhh_11))\n",
        "  h_previous = h_current\n",
        "  output_2.append(h_current)\n",
        "\n",
        "output_2"
      ],
      "execution_count": 252,
      "outputs": [
        {
          "output_type": "execute_result",
          "data": {
            "text/plain": [
              "[tensor([[ 0.0348, -0.2825,  0.5068]], grad_fn=<TanhBackward>),\n",
              " tensor([[-0.0356, -0.2683,  0.6636]], grad_fn=<TanhBackward>),\n",
              " tensor([[ 0.0149, -0.2029,  0.6910]], grad_fn=<TanhBackward>),\n",
              " tensor([[ 0.0190, -0.2103,  0.6927]], grad_fn=<TanhBackward>)]"
            ]
          },
          "metadata": {
            "tags": []
          },
          "execution_count": 252
        }
      ]
    },
    {
      "cell_type": "code",
      "metadata": {
        "id": "_nx4VyeH0Ps2",
        "colab_type": "code",
        "colab": {
          "base_uri": "https://localhost:8080/",
          "height": 85
        },
        "outputId": "cc562e28-0d56-49ba-c6ba-8aa750977e8c"
      },
      "source": [
        "out_all"
      ],
      "execution_count": 238,
      "outputs": [
        {
          "output_type": "execute_result",
          "data": {
            "text/plain": [
              "tensor([[[ 0.0348, -0.2825,  0.5068],\n",
              "         [-0.0356, -0.2683,  0.6636],\n",
              "         [ 0.0149, -0.2029,  0.6910],\n",
              "         [ 0.0190, -0.2103,  0.6927]]], grad_fn=<TransposeBackward1>)"
            ]
          },
          "metadata": {
            "tags": []
          },
          "execution_count": 238
        }
      ]
    },
    {
      "cell_type": "code",
      "metadata": {
        "id": "wAk-XTe609qc",
        "colab_type": "code",
        "colab": {
          "base_uri": "https://localhost:8080/",
          "height": 68
        },
        "outputId": "2e3cbbc5-b842-4291-af60-9d4abc5d102f"
      },
      "source": [
        "out_last"
      ],
      "execution_count": 239,
      "outputs": [
        {
          "output_type": "execute_result",
          "data": {
            "text/plain": [
              "tensor([[[ 0.7414,  0.9353,  0.8858]],\n",
              "\n",
              "        [[ 0.0190, -0.2103,  0.6927]]], grad_fn=<StackBackward>)"
            ]
          },
          "metadata": {
            "tags": []
          },
          "execution_count": 239
        }
      ]
    },
    {
      "cell_type": "markdown",
      "metadata": {
        "id": "SuTlDycgK6Pd",
        "colab_type": "text"
      },
      "source": [
        "## **Expanding to GRUs**"
      ]
    },
    {
      "cell_type": "code",
      "metadata": {
        "id": "xd1YPWwRCuD-",
        "colab_type": "code",
        "colab": {}
      },
      "source": [
        "# Defining a basic GRU layer\n",
        "gru = nn.GRU(input_size=3, hidden_size=1, num_layers = 1, bias = True, batch_first=True)"
      ],
      "execution_count": 0,
      "outputs": []
    },
    {
      "cell_type": "markdown",
      "metadata": {
        "id": "AZeh-BIvLa6d",
        "colab_type": "text"
      },
      "source": [
        "\\begin{array}{ll}\n",
        " |          r_t = \\sigma(W_{ir} x_t + b_{ir} + W_{hr} h_{(t-1)} + b_{hr}) \\\\\n",
        " |          z_t = \\sigma(W_{iz} x_t + b_{iz} + W_{hz} h_{(t-1)} + b_{hz}) \\\\\n",
        " |          n_t = \\tanh(W_{in} x_t + b_{in} + r_t * (W_{hn} h_{(t-1)}+ b_{hn})) \\\\\n",
        " |          h_t = (1 - z_t) * n_t + z_t * h_{(t-1)}\n",
        " |      \\end{array}"
      ]
    },
    {
      "cell_type": "code",
      "metadata": {
        "id": "-KK119z-LHSC",
        "colab_type": "code",
        "colab": {
          "base_uri": "https://localhost:8080/",
          "height": 153
        },
        "outputId": "d96d9d5d-a45c-45c8-c949-c9eb3d72d6b8"
      },
      "source": [
        "gru.state_dict()"
      ],
      "execution_count": 328,
      "outputs": [
        {
          "output_type": "execute_result",
          "data": {
            "text/plain": [
              "OrderedDict([('weight_ih_l0', tensor([[-0.0673, -0.1624,  0.4516],\n",
              "                      [ 0.2531,  0.1567,  0.2796],\n",
              "                      [-0.4242, -0.5414, -0.8276]])),\n",
              "             ('weight_hh_l0', tensor([[ 0.6088],\n",
              "                      [-0.9962],\n",
              "                      [-0.7625]])),\n",
              "             ('bias_ih_l0', tensor([0.8264, 0.8598, 0.6835])),\n",
              "             ('bias_hh_l0', tensor([-0.4312, -0.8736, -0.8906]))])"
            ]
          },
          "metadata": {
            "tags": []
          },
          "execution_count": 328
        }
      ]
    },
    {
      "cell_type": "code",
      "metadata": {
        "id": "31f136u1LXl4",
        "colab_type": "code",
        "colab": {
          "base_uri": "https://localhost:8080/",
          "height": 51
        },
        "outputId": "ffda461a-c34c-4e67-d9e1-823a1042f276"
      },
      "source": [
        "out_all, out_last = gru(seq)\n",
        "\n",
        "print(f\"Out all shape : {out_all.shape}\")\n",
        "\n",
        "print(f\"Out last shape : {out_last.shape}\")"
      ],
      "execution_count": 329,
      "outputs": [
        {
          "output_type": "stream",
          "text": [
            "Out all shape : torch.Size([1, 4, 1])\n",
            "Out last shape : torch.Size([1, 1, 1])\n"
          ],
          "name": "stdout"
        }
      ]
    },
    {
      "cell_type": "markdown",
      "metadata": {
        "id": "t119wqk4c2co",
        "colab_type": "text"
      },
      "source": [
        "### Extracting layer weights"
      ]
    },
    {
      "cell_type": "code",
      "metadata": {
        "id": "vYXEqZNNc7nb",
        "colab_type": "code",
        "colab": {}
      },
      "source": [
        "wir_10 = gru.weight_ih_l0[0,:].squeeze(0)\n",
        "wiz_10 = gru.weight_ih_l0[1,:].squeeze(0)\n",
        "win_10 = gru.weight_ih_l0[2,:].squeeze(0)\n",
        "\n",
        "whr_10 = gru.weight_hh_l0[0]\n",
        "whz_10 = gru.weight_hh_l0[1]\n",
        "whn_10 = gru.weight_hh_l0[2]\n",
        "\n",
        "bir_10 = gru.bias_ih_l0[0]\n",
        "biz_10 = gru.bias_ih_l0[1]\n",
        "bin_10 = gru.bias_ih_l0[2]\n",
        "\n",
        "bhr_10 = gru.bias_hh_l0[0]\n",
        "bhz_10 = gru.bias_hh_l0[1]\n",
        "bhn_10 = gru.bias_hh_l0[2]"
      ],
      "execution_count": 0,
      "outputs": []
    },
    {
      "cell_type": "markdown",
      "metadata": {
        "id": "H-uHVX-JPury",
        "colab_type": "text"
      },
      "source": [
        "### **Computing outputs**"
      ]
    },
    {
      "cell_type": "markdown",
      "metadata": {
        "id": "e32msdTGdFtG",
        "colab_type": "text"
      },
      "source": [
        "#### Hidden State 1"
      ]
    },
    {
      "cell_type": "code",
      "metadata": {
        "id": "K77ytWraMkwI",
        "colab_type": "code",
        "colab": {
          "base_uri": "https://localhost:8080/",
          "height": 34
        },
        "outputId": "3e584fa4-4189-46f1-8e0e-b08bf8c14cb1"
      },
      "source": [
        "x = seq[0][0]\n",
        "\n",
        "h_previous = torch.Tensor([0.0])\n",
        "\n",
        "r = torch.sigmoid(dot(x,wir_10) + bir_10  + dot(h_previous,whr_10) + bhr_10  )\n",
        "z = torch.sigmoid(dot(x,wiz_10) + biz_10  + dot(h_previous,whz_10) + bhz_10  )\n",
        "n = torch.tanh(   dot(x,win_10) + bin_10  + r*( dot(h_previous,whn_10) + bhn_10) )\n",
        "h1 = (1-z)*n + z*h_previous\n",
        "\n",
        "h1"
      ],
      "execution_count": 337,
      "outputs": [
        {
          "output_type": "execute_result",
          "data": {
            "text/plain": [
              "tensor([-0.3149], grad_fn=<AddBackward0>)"
            ]
          },
          "metadata": {
            "tags": []
          },
          "execution_count": 337
        }
      ]
    },
    {
      "cell_type": "markdown",
      "metadata": {
        "id": "W3_xcIJPdIHf",
        "colab_type": "text"
      },
      "source": [
        "#### Hidden State 2"
      ]
    },
    {
      "cell_type": "code",
      "metadata": {
        "id": "FghkzHo0dKaH",
        "colab_type": "code",
        "colab": {
          "base_uri": "https://localhost:8080/",
          "height": 34
        },
        "outputId": "c5a1d5bd-1ff8-4bfb-9f92-02c64f26e21a"
      },
      "source": [
        "x = seq[0][1]\n",
        "\n",
        "h_previous = h1\n",
        "\n",
        "r = torch.sigmoid(dot(x,wir_10) + bir_10  + dot(h_previous,whr_10) + bhr_10  )\n",
        "z = torch.sigmoid(dot(x,wiz_10) + biz_10  + dot(h_previous,whz_10) + bhz_10  )\n",
        "n = torch.tanh(   dot(x,win_10) + bin_10  + r*( dot(h_previous,whn_10) + bhn_10) )\n",
        "h2 = (1-z)*n + z*h_previous\n",
        "\n",
        "h2"
      ],
      "execution_count": 339,
      "outputs": [
        {
          "output_type": "execute_result",
          "data": {
            "text/plain": [
              "tensor([-0.4718], grad_fn=<AddBackward0>)"
            ]
          },
          "metadata": {
            "tags": []
          },
          "execution_count": 339
        }
      ]
    },
    {
      "cell_type": "markdown",
      "metadata": {
        "id": "mKsgPTlEdOUG",
        "colab_type": "text"
      },
      "source": [
        "#### Hidden State 3"
      ]
    },
    {
      "cell_type": "code",
      "metadata": {
        "id": "9U40nzdedQDI",
        "colab_type": "code",
        "colab": {
          "base_uri": "https://localhost:8080/",
          "height": 34
        },
        "outputId": "5349b1da-5d60-45f2-ed4b-4f6c53739d08"
      },
      "source": [
        "x = seq[0][2]\n",
        "\n",
        "h_previous = h2\n",
        "\n",
        "r = torch.sigmoid(dot(x,wir_10) + bir_10  + dot(h_previous,whr_10) + bhr_10  )\n",
        "z = torch.sigmoid(dot(x,wiz_10) + biz_10  + dot(h_previous,whz_10) + bhz_10  )\n",
        "n = torch.tanh(   dot(x,win_10) + bin_10  + r*( dot(h_previous,whn_10) + bhn_10) )\n",
        "h3 = (1-z)*n + z*h_previous\n",
        "\n",
        "h3"
      ],
      "execution_count": 340,
      "outputs": [
        {
          "output_type": "execute_result",
          "data": {
            "text/plain": [
              "tensor([-0.5516], grad_fn=<AddBackward0>)"
            ]
          },
          "metadata": {
            "tags": []
          },
          "execution_count": 340
        }
      ]
    },
    {
      "cell_type": "code",
      "metadata": {
        "id": "GrED4DnLZE2E",
        "colab_type": "code",
        "colab": {
          "base_uri": "https://localhost:8080/",
          "height": 85
        },
        "outputId": "ef68a70a-05d2-45ce-9d5f-03f237ecabdd"
      },
      "source": [
        "out_all"
      ],
      "execution_count": 333,
      "outputs": [
        {
          "output_type": "execute_result",
          "data": {
            "text/plain": [
              "tensor([[[-0.3149],\n",
              "         [-0.4718],\n",
              "         [-0.5516],\n",
              "         [-0.6281]]], grad_fn=<TransposeBackward1>)"
            ]
          },
          "metadata": {
            "tags": []
          },
          "execution_count": 333
        }
      ]
    },
    {
      "cell_type": "markdown",
      "metadata": {
        "id": "CafWoN6ZdXQc",
        "colab_type": "text"
      },
      "source": [
        "## **Extending to LSTMs**"
      ]
    },
    {
      "cell_type": "code",
      "metadata": {
        "id": "q9xiE-PWZE4v",
        "colab_type": "code",
        "colab": {}
      },
      "source": [
        "# Defining a basic LSTM layer\n",
        "lstm = nn.LSTM(input_size=3, hidden_size=1, num_layers = 1, bias = True, batch_first=True)"
      ],
      "execution_count": 0,
      "outputs": []
    },
    {
      "cell_type": "markdown",
      "metadata": {
        "id": "ubM3B6wzdnhA",
        "colab_type": "text"
      },
      "source": [
        "\\begin{array}{ll} \\\\\n",
        " |          i_t = \\sigma(W_{ii} x_t + b_{ii} + W_{hi} h_{(t-1)} + b_{hi}) \\\\\n",
        " |          f_t = \\sigma(W_{if} x_t + b_{if} + W_{hf} h_{(t-1)} + b_{hf}) \\\\\n",
        " |          g_t = \\tanh(W_{ig} x_t + b_{ig} + W_{hg} h_{(t-1)} + b_{hg}) \\\\\n",
        " |          o_t = \\sigma(W_{io} x_t + b_{io} + W_{ho} h_{(t-1)} + b_{ho}) \\\\\n",
        " |          c_t = f_t * c_{(t-1)} + i_t * g_t \\\\\n",
        " |          h_t = o_t * \\tanh(c_t) \\\\\n",
        " |      \\end{array}"
      ]
    },
    {
      "cell_type": "code",
      "metadata": {
        "id": "1AGCGTz3d4Bo",
        "colab_type": "code",
        "colab": {
          "base_uri": "https://localhost:8080/",
          "height": 187
        },
        "outputId": "3b1d3f93-8463-4f7b-81a6-b10fb5d12f6b"
      },
      "source": [
        "lstm.state_dict()"
      ],
      "execution_count": 343,
      "outputs": [
        {
          "output_type": "execute_result",
          "data": {
            "text/plain": [
              "OrderedDict([('weight_ih_l0', tensor([[-0.6096,  0.3653,  0.9641],\n",
              "                      [-0.2380, -0.3644,  0.6403],\n",
              "                      [ 0.3301, -0.4984,  0.1940],\n",
              "                      [-0.8881,  0.1192, -0.6559]])),\n",
              "             ('weight_hh_l0', tensor([[-0.2598],\n",
              "                      [-0.9220],\n",
              "                      [-0.6546],\n",
              "                      [-0.6251]])),\n",
              "             ('bias_ih_l0', tensor([ 0.9738, -0.7896,  0.2528, -0.3227])),\n",
              "             ('bias_hh_l0', tensor([ 0.5644, -0.0880,  0.0569,  0.5657]))])"
            ]
          },
          "metadata": {
            "tags": []
          },
          "execution_count": 343
        }
      ]
    },
    {
      "cell_type": "markdown",
      "metadata": {
        "id": "3POkRJLNewOr",
        "colab_type": "text"
      },
      "source": [
        ""
      ]
    },
    {
      "cell_type": "code",
      "metadata": {
        "id": "kSqvy1-9d4Ej",
        "colab_type": "code",
        "colab": {
          "base_uri": "https://localhost:8080/",
          "height": 51
        },
        "outputId": "4894cd65-c14b-4c08-d75d-558284514ebe"
      },
      "source": [
        "out_all, out_last = lstm(seq)\n",
        "\n",
        "print(f\"Out all shape : {out_all.shape}\")\n",
        "\n",
        "print(f\"Out last shape : {out_last[0].shape}\")"
      ],
      "execution_count": 347,
      "outputs": [
        {
          "output_type": "stream",
          "text": [
            "Out all shape : torch.Size([1, 4, 1])\n",
            "Out last shape : torch.Size([1, 1, 1])\n"
          ],
          "name": "stdout"
        }
      ]
    },
    {
      "cell_type": "code",
      "metadata": {
        "id": "bOQxIzBNd4G3",
        "colab_type": "code",
        "colab": {
          "base_uri": "https://localhost:8080/",
          "height": 51
        },
        "outputId": "69e37e50-414d-4f9d-c55c-7a56338dd2e9"
      },
      "source": [
        "out_last"
      ],
      "execution_count": 345,
      "outputs": [
        {
          "output_type": "execute_result",
          "data": {
            "text/plain": [
              "(tensor([[[-0.1506]]], grad_fn=<StackBackward>),\n",
              " tensor([[[-0.5870]]], grad_fn=<StackBackward>))"
            ]
          },
          "metadata": {
            "tags": []
          },
          "execution_count": 345
        }
      ]
    },
    {
      "cell_type": "code",
      "metadata": {
        "id": "1jpF_baAd4JD",
        "colab_type": "code",
        "colab": {
          "base_uri": "https://localhost:8080/",
          "height": 85
        },
        "outputId": "0bdde504-f3a0-4e1a-fcab-44fc68f1778a"
      },
      "source": [
        "out_all"
      ],
      "execution_count": 346,
      "outputs": [
        {
          "output_type": "execute_result",
          "data": {
            "text/plain": [
              "tensor([[[ 0.0668],\n",
              "         [-0.0310],\n",
              "         [-0.0401],\n",
              "         [-0.1506]]], grad_fn=<TransposeBackward0>)"
            ]
          },
          "metadata": {
            "tags": []
          },
          "execution_count": 346
        }
      ]
    },
    {
      "cell_type": "markdown",
      "metadata": {
        "id": "WebOS6h-exhW",
        "colab_type": "text"
      },
      "source": [
        "### Extracting weights"
      ]
    },
    {
      "cell_type": "code",
      "metadata": {
        "id": "gwN2T0X0evNn",
        "colab_type": "code",
        "colab": {}
      },
      "source": [
        "wii_10 = lstm.weight_ih_l0[0,:].squeeze(0)\n",
        "wif_10 = lstm.weight_ih_l0[1,:].squeeze(0)\n",
        "wig_10 = lstm.weight_ih_l0[2,:].squeeze(0)\n",
        "wio_10 = lstm.weight_ih_l0[3,:].squeeze(0)\n",
        "\n",
        "whi_10 = lstm.weight_hh_l0[0]\n",
        "whf_10 = lstm.weight_hh_l0[1]\n",
        "whg_10 = lstm.weight_hh_l0[2]\n",
        "who_10 = lstm.weight_hh_l0[3]\n",
        "\n",
        "bii_10 = lstm.bias_ih_l0[0]\n",
        "bif_10 = lstm.bias_ih_l0[1]\n",
        "big_10 = lstm.bias_ih_l0[2]\n",
        "bio_10 = lstm.bias_ih_l0[3]\n",
        "\n",
        "bhi_10 = lstm.bias_hh_l0[0]\n",
        "bhf_10 = lstm.bias_hh_l0[1]\n",
        "bhg_10 = lstm.bias_hh_l0[2]\n",
        "bho_10 = lstm.bias_hh_l0[3]"
      ],
      "execution_count": 0,
      "outputs": []
    },
    {
      "cell_type": "markdown",
      "metadata": {
        "id": "v6jYah31eps_",
        "colab_type": "text"
      },
      "source": [
        "## **Computing output**"
      ]
    },
    {
      "cell_type": "markdown",
      "metadata": {
        "id": "aViehwW-flBS",
        "colab_type": "text"
      },
      "source": [
        "\\begin{array}{ll} \\\\\n",
        " |          i_t = \\sigma(W_{ii} x_t + b_{ii} + W_{hi} h_{(t-1)} + b_{hi}) \\\\\n",
        " |          f_t = \\sigma(W_{if} x_t + b_{if} + W_{hf} h_{(t-1)} + b_{hf}) \\\\\n",
        " |          g_t = \\tanh(W_{ig} x_t + b_{ig} + W_{hg} h_{(t-1)} + b_{hg}) \\\\\n",
        " |          o_t = \\sigma(W_{io} x_t + b_{io} + W_{ho} h_{(t-1)} + b_{ho}) \\\\\n",
        " |          c_t = f_t * c_{(t-1)} + i_t * g_t \\\\\n",
        " |          h_t = o_t * \\tanh(c_t) \\\\\n",
        " |      \\end{array}"
      ]
    },
    {
      "cell_type": "markdown",
      "metadata": {
        "id": "O9AzFNcjfcyR",
        "colab_type": "text"
      },
      "source": [
        "#### Hidden State 1"
      ]
    },
    {
      "cell_type": "code",
      "metadata": {
        "id": "QNSIPQhJd4L7",
        "colab_type": "code",
        "colab": {
          "base_uri": "https://localhost:8080/",
          "height": 34
        },
        "outputId": "cb3a3266-bb81-4505-927f-7dc6469dbfd9"
      },
      "source": [
        "x = seq[0][0]\n",
        "\n",
        "h_previous = torch.Tensor([0.0])\n",
        "c_previous = torch.Tensor([0.0])\n",
        "\n",
        "i = torch.sigmoid(dot(x,wii_10) + bii_10  + dot(h_previous,whi_10) + bhi_10  )\n",
        "f = torch.sigmoid(dot(x,wif_10) + bif_10  + dot(h_previous,whf_10) + bhf_10  )\n",
        "g = torch.tanh(   dot(x,wig_10) + big_10  + dot(h_previous,whg_10) + bhg_10  )\n",
        "o = torch.sigmoid(dot(x,wio_10) + bio_10  + dot(h_previous,who_10) + bho_10  )\n",
        "c1 = f* c_previous + i*g\n",
        "h1 = o* torch.tanh(c1)\n",
        "\n",
        "h1"
      ],
      "execution_count": 350,
      "outputs": [
        {
          "output_type": "execute_result",
          "data": {
            "text/plain": [
              "tensor([0.0668], grad_fn=<MulBackward0>)"
            ]
          },
          "metadata": {
            "tags": []
          },
          "execution_count": 350
        }
      ]
    },
    {
      "cell_type": "markdown",
      "metadata": {
        "id": "CkF9KZlags3Q",
        "colab_type": "text"
      },
      "source": [
        "#### Hidden State 2"
      ]
    },
    {
      "cell_type": "code",
      "metadata": {
        "id": "s7hhJEI2gr7J",
        "colab_type": "code",
        "colab": {
          "base_uri": "https://localhost:8080/",
          "height": 34
        },
        "outputId": "4503ea51-2f57-4145-d3ee-01c3dfe27e1b"
      },
      "source": [
        "x = seq[0][1]\n",
        "\n",
        "h_previous = h1\n",
        "c_previous = c1\n",
        "\n",
        "i = torch.sigmoid(dot(x,wii_10) + bii_10  + dot(h_previous,whi_10) + bhi_10  )\n",
        "f = torch.sigmoid(dot(x,wif_10) + bif_10  + dot(h_previous,whf_10) + bhf_10  )\n",
        "g = torch.tanh(   dot(x,wig_10) + big_10  + dot(h_previous,whg_10) + bhg_10  )\n",
        "o = torch.sigmoid(dot(x,wio_10) + bio_10  + dot(h_previous,who_10) + bho_10  )\n",
        "c2 = f* c_previous + i*g\n",
        "h2 = o* torch.tanh(c2)\n",
        "\n",
        "h2"
      ],
      "execution_count": 352,
      "outputs": [
        {
          "output_type": "execute_result",
          "data": {
            "text/plain": [
              "tensor([-0.0310], grad_fn=<MulBackward0>)"
            ]
          },
          "metadata": {
            "tags": []
          },
          "execution_count": 352
        }
      ]
    },
    {
      "cell_type": "code",
      "metadata": {
        "id": "2jriNrFVd4OI",
        "colab_type": "code",
        "colab": {
          "base_uri": "https://localhost:8080/",
          "height": 85
        },
        "outputId": "dcd6442b-f0c0-433b-e592-4fbe665e4c0e"
      },
      "source": [
        "out_all"
      ],
      "execution_count": 351,
      "outputs": [
        {
          "output_type": "execute_result",
          "data": {
            "text/plain": [
              "tensor([[[ 0.0668],\n",
              "         [-0.0310],\n",
              "         [-0.0401],\n",
              "         [-0.1506]]], grad_fn=<TransposeBackward0>)"
            ]
          },
          "metadata": {
            "tags": []
          },
          "execution_count": 351
        }
      ]
    },
    {
      "cell_type": "code",
      "metadata": {
        "id": "jxt1AjTTdb2W",
        "colab_type": "code",
        "colab": {
          "base_uri": "https://localhost:8080/",
          "height": 1000
        },
        "outputId": "4be5271d-65bd-496d-8f8f-9361cfb0cbde"
      },
      "source": [
        "help(nn.LSTM)"
      ],
      "execution_count": 342,
      "outputs": [
        {
          "output_type": "stream",
          "text": [
            "Help on class LSTM in module torch.nn.modules.rnn:\n",
            "\n",
            "class LSTM(RNNBase)\n",
            " |  Applies a multi-layer long short-term memory (LSTM) RNN to an input\n",
            " |  sequence.\n",
            " |  \n",
            " |  \n",
            " |  For each element in the input sequence, each layer computes the following\n",
            " |  function:\n",
            " |  \n",
            " |  .. math::\n",
            " |      \\begin{array}{ll} \\\\\n",
            " |          i_t = \\sigma(W_{ii} x_t + b_{ii} + W_{hi} h_{(t-1)} + b_{hi}) \\\\\n",
            " |          f_t = \\sigma(W_{if} x_t + b_{if} + W_{hf} h_{(t-1)} + b_{hf}) \\\\\n",
            " |          g_t = \\tanh(W_{ig} x_t + b_{ig} + W_{hg} h_{(t-1)} + b_{hg}) \\\\\n",
            " |          o_t = \\sigma(W_{io} x_t + b_{io} + W_{ho} h_{(t-1)} + b_{ho}) \\\\\n",
            " |          c_t = f_t * c_{(t-1)} + i_t * g_t \\\\\n",
            " |          h_t = o_t * \\tanh(c_t) \\\\\n",
            " |      \\end{array}\n",
            " |  \n",
            " |  where :math:`h_t` is the hidden state at time `t`, :math:`c_t` is the cell\n",
            " |  state at time `t`, :math:`x_t` is the input at time `t`, :math:`h_{(t-1)}`\n",
            " |  is the hidden state of the layer at time `t-1` or the initial hidden\n",
            " |  state at time `0`, and :math:`i_t`, :math:`f_t`, :math:`g_t`,\n",
            " |  :math:`o_t` are the input, forget, cell, and output gates, respectively.\n",
            " |  :math:`\\sigma` is the sigmoid function, and :math:`*` is the Hadamard product.\n",
            " |  \n",
            " |  In a multilayer LSTM, the input :math:`x^{(l)}_t` of the :math:`l` -th layer\n",
            " |  (:math:`l >= 2`) is the hidden state :math:`h^{(l-1)}_t` of the previous layer multiplied by\n",
            " |  dropout :math:`\\delta^{(l-1)}_t` where each :math:`\\delta^{(l-1)}_t` is a Bernoulli random\n",
            " |  variable which is :math:`0` with probability :attr:`dropout`.\n",
            " |  \n",
            " |  Args:\n",
            " |      input_size: The number of expected features in the input `x`\n",
            " |      hidden_size: The number of features in the hidden state `h`\n",
            " |      num_layers: Number of recurrent layers. E.g., setting ``num_layers=2``\n",
            " |          would mean stacking two LSTMs together to form a `stacked LSTM`,\n",
            " |          with the second LSTM taking in outputs of the first LSTM and\n",
            " |          computing the final results. Default: 1\n",
            " |      bias: If ``False``, then the layer does not use bias weights `b_ih` and `b_hh`.\n",
            " |          Default: ``True``\n",
            " |      batch_first: If ``True``, then the input and output tensors are provided\n",
            " |          as (batch, seq, feature). Default: ``False``\n",
            " |      dropout: If non-zero, introduces a `Dropout` layer on the outputs of each\n",
            " |          LSTM layer except the last layer, with dropout probability equal to\n",
            " |          :attr:`dropout`. Default: 0\n",
            " |      bidirectional: If ``True``, becomes a bidirectional LSTM. Default: ``False``\n",
            " |  \n",
            " |  Inputs: input, (h_0, c_0)\n",
            " |      - **input** of shape `(seq_len, batch, input_size)`: tensor containing the features\n",
            " |        of the input sequence.\n",
            " |        The input can also be a packed variable length sequence.\n",
            " |        See :func:`torch.nn.utils.rnn.pack_padded_sequence` or\n",
            " |        :func:`torch.nn.utils.rnn.pack_sequence` for details.\n",
            " |      - **h_0** of shape `(num_layers * num_directions, batch, hidden_size)`: tensor\n",
            " |        containing the initial hidden state for each element in the batch.\n",
            " |        If the LSTM is bidirectional, num_directions should be 2, else it should be 1.\n",
            " |      - **c_0** of shape `(num_layers * num_directions, batch, hidden_size)`: tensor\n",
            " |        containing the initial cell state for each element in the batch.\n",
            " |  \n",
            " |        If `(h_0, c_0)` is not provided, both **h_0** and **c_0** default to zero.\n",
            " |  \n",
            " |  \n",
            " |  Outputs: output, (h_n, c_n)\n",
            " |      - **output** of shape `(seq_len, batch, num_directions * hidden_size)`: tensor\n",
            " |        containing the output features `(h_t)` from the last layer of the LSTM,\n",
            " |        for each `t`. If a :class:`torch.nn.utils.rnn.PackedSequence` has been\n",
            " |        given as the input, the output will also be a packed sequence.\n",
            " |  \n",
            " |        For the unpacked case, the directions can be separated\n",
            " |        using ``output.view(seq_len, batch, num_directions, hidden_size)``,\n",
            " |        with forward and backward being direction `0` and `1` respectively.\n",
            " |        Similarly, the directions can be separated in the packed case.\n",
            " |      - **h_n** of shape `(num_layers * num_directions, batch, hidden_size)`: tensor\n",
            " |        containing the hidden state for `t = seq_len`.\n",
            " |  \n",
            " |        Like *output*, the layers can be separated using\n",
            " |        ``h_n.view(num_layers, num_directions, batch, hidden_size)`` and similarly for *c_n*.\n",
            " |      - **c_n** of shape `(num_layers * num_directions, batch, hidden_size)`: tensor\n",
            " |        containing the cell state for `t = seq_len`.\n",
            " |  \n",
            " |  Attributes:\n",
            " |      weight_ih_l[k] : the learnable input-hidden weights of the :math:`\\text{k}^{th}` layer\n",
            " |          `(W_ii|W_if|W_ig|W_io)`, of shape `(4*hidden_size, input_size)` for `k = 0`.\n",
            " |          Otherwise, the shape is `(4*hidden_size, num_directions * hidden_size)`\n",
            " |      weight_hh_l[k] : the learnable hidden-hidden weights of the :math:`\\text{k}^{th}` layer\n",
            " |          `(W_hi|W_hf|W_hg|W_ho)`, of shape `(4*hidden_size, hidden_size)`\n",
            " |      bias_ih_l[k] : the learnable input-hidden bias of the :math:`\\text{k}^{th}` layer\n",
            " |          `(b_ii|b_if|b_ig|b_io)`, of shape `(4*hidden_size)`\n",
            " |      bias_hh_l[k] : the learnable hidden-hidden bias of the :math:`\\text{k}^{th}` layer\n",
            " |          `(b_hi|b_hf|b_hg|b_ho)`, of shape `(4*hidden_size)`\n",
            " |  \n",
            " |  .. note::\n",
            " |      All the weights and biases are initialized from :math:`\\mathcal{U}(-\\sqrt{k}, \\sqrt{k})`\n",
            " |      where :math:`k = \\frac{1}{\\text{hidden\\_size}}`\n",
            " |  \n",
            " |  .. include:: cudnn_persistent_rnn.rst\n",
            " |  \n",
            " |  Examples::\n",
            " |  \n",
            " |      >>> rnn = nn.LSTM(10, 20, 2)\n",
            " |      >>> input = torch.randn(5, 3, 10)\n",
            " |      >>> h0 = torch.randn(2, 3, 20)\n",
            " |      >>> c0 = torch.randn(2, 3, 20)\n",
            " |      >>> output, (hn, cn) = rnn(input, (h0, c0))\n",
            " |  \n",
            " |  Method resolution order:\n",
            " |      LSTM\n",
            " |      RNNBase\n",
            " |      torch.nn.modules.module.Module\n",
            " |      builtins.object\n",
            " |  \n",
            " |  Methods defined here:\n",
            " |  \n",
            " |  __init__(self, *args, **kwargs)\n",
            " |      Initializes internal Module state, shared by both nn.Module and ScriptModule.\n",
            " |  \n",
            " |  check_forward_args(self, input, hidden, batch_sizes)\n",
            " |  \n",
            " |  forward(self, input, hx=None)\n",
            " |      Defines the computation performed at every call.\n",
            " |      \n",
            " |      Should be overridden by all subclasses.\n",
            " |      \n",
            " |      .. note::\n",
            " |          Although the recipe for forward pass needs to be defined within\n",
            " |          this function, one should call the :class:`Module` instance afterwards\n",
            " |          instead of this since the former takes care of running the\n",
            " |          registered hooks while the latter silently ignores them.\n",
            " |  \n",
            " |  permute_hidden(self, hx, permutation)\n",
            " |  \n",
            " |  ----------------------------------------------------------------------\n",
            " |  Methods inherited from RNNBase:\n",
            " |  \n",
            " |  __setattr__(self, attr, value)\n",
            " |      Implement setattr(self, name, value).\n",
            " |  \n",
            " |  __setstate__(self, d)\n",
            " |  \n",
            " |  check_hidden_size(self, hx, expected_hidden_size, msg='Expected hidden size {}, got {}')\n",
            " |  \n",
            " |  check_input(self, input, batch_sizes)\n",
            " |  \n",
            " |  extra_repr(self)\n",
            " |      Set the extra representation of the module\n",
            " |      \n",
            " |      To print customized extra information, you should reimplement\n",
            " |      this method in your own modules. Both single-line and multi-line\n",
            " |      strings are acceptable.\n",
            " |  \n",
            " |  flatten_parameters(self)\n",
            " |      Resets parameter data pointer so that they can use faster code paths.\n",
            " |      \n",
            " |      Right now, this works only if the module is on the GPU and cuDNN is enabled.\n",
            " |      Otherwise, it's a no-op.\n",
            " |  \n",
            " |  get_expected_hidden_size(self, input, batch_sizes)\n",
            " |  \n",
            " |  reset_parameters(self)\n",
            " |  \n",
            " |  ----------------------------------------------------------------------\n",
            " |  Data descriptors inherited from RNNBase:\n",
            " |  \n",
            " |  all_weights\n",
            " |  \n",
            " |  ----------------------------------------------------------------------\n",
            " |  Data and other attributes inherited from RNNBase:\n",
            " |  \n",
            " |  __constants__ = ['mode', 'input_size', 'hidden_size', 'num_layers', 'b...\n",
            " |  \n",
            " |  ----------------------------------------------------------------------\n",
            " |  Methods inherited from torch.nn.modules.module.Module:\n",
            " |  \n",
            " |  __call__(self, *input, **kwargs)\n",
            " |      Call self as a function.\n",
            " |  \n",
            " |  __delattr__(self, name)\n",
            " |      Implement delattr(self, name).\n",
            " |  \n",
            " |  __dir__(self)\n",
            " |      __dir__() -> list\n",
            " |      default dir() implementation\n",
            " |  \n",
            " |  __getattr__(self, name)\n",
            " |  \n",
            " |  __repr__(self)\n",
            " |      Return repr(self).\n",
            " |  \n",
            " |  add_module(self, name, module)\n",
            " |      Adds a child module to the current module.\n",
            " |      \n",
            " |      The module can be accessed as an attribute using the given name.\n",
            " |      \n",
            " |      Args:\n",
            " |          name (string): name of the child module. The child module can be\n",
            " |              accessed from this module using the given name\n",
            " |          module (Module): child module to be added to the module.\n",
            " |  \n",
            " |  apply(self, fn)\n",
            " |      Applies ``fn`` recursively to every submodule (as returned by ``.children()``)\n",
            " |      as well as self. Typical use includes initializing the parameters of a model\n",
            " |      (see also :ref:`nn-init-doc`).\n",
            " |      \n",
            " |      Args:\n",
            " |          fn (:class:`Module` -> None): function to be applied to each submodule\n",
            " |      \n",
            " |      Returns:\n",
            " |          Module: self\n",
            " |      \n",
            " |      Example::\n",
            " |      \n",
            " |          >>> def init_weights(m):\n",
            " |          >>>     print(m)\n",
            " |          >>>     if type(m) == nn.Linear:\n",
            " |          >>>         m.weight.data.fill_(1.0)\n",
            " |          >>>         print(m.weight)\n",
            " |          >>> net = nn.Sequential(nn.Linear(2, 2), nn.Linear(2, 2))\n",
            " |          >>> net.apply(init_weights)\n",
            " |          Linear(in_features=2, out_features=2, bias=True)\n",
            " |          Parameter containing:\n",
            " |          tensor([[ 1.,  1.],\n",
            " |                  [ 1.,  1.]])\n",
            " |          Linear(in_features=2, out_features=2, bias=True)\n",
            " |          Parameter containing:\n",
            " |          tensor([[ 1.,  1.],\n",
            " |                  [ 1.,  1.]])\n",
            " |          Sequential(\n",
            " |            (0): Linear(in_features=2, out_features=2, bias=True)\n",
            " |            (1): Linear(in_features=2, out_features=2, bias=True)\n",
            " |          )\n",
            " |          Sequential(\n",
            " |            (0): Linear(in_features=2, out_features=2, bias=True)\n",
            " |            (1): Linear(in_features=2, out_features=2, bias=True)\n",
            " |          )\n",
            " |  \n",
            " |  buffers(self, recurse=True)\n",
            " |      Returns an iterator over module buffers.\n",
            " |      \n",
            " |      Args:\n",
            " |          recurse (bool): if True, then yields buffers of this module\n",
            " |              and all submodules. Otherwise, yields only buffers that\n",
            " |              are direct members of this module.\n",
            " |      \n",
            " |      Yields:\n",
            " |          torch.Tensor: module buffer\n",
            " |      \n",
            " |      Example::\n",
            " |      \n",
            " |          >>> for buf in model.buffers():\n",
            " |          >>>     print(type(buf.data), buf.size())\n",
            " |          <class 'torch.FloatTensor'> (20L,)\n",
            " |          <class 'torch.FloatTensor'> (20L, 1L, 5L, 5L)\n",
            " |  \n",
            " |  children(self)\n",
            " |      Returns an iterator over immediate children modules.\n",
            " |      \n",
            " |      Yields:\n",
            " |          Module: a child module\n",
            " |  \n",
            " |  cpu(self)\n",
            " |      Moves all model parameters and buffers to the CPU.\n",
            " |      \n",
            " |      Returns:\n",
            " |          Module: self\n",
            " |  \n",
            " |  cuda(self, device=None)\n",
            " |      Moves all model parameters and buffers to the GPU.\n",
            " |      \n",
            " |      This also makes associated parameters and buffers different objects. So\n",
            " |      it should be called before constructing optimizer if the module will\n",
            " |      live on GPU while being optimized.\n",
            " |      \n",
            " |      Arguments:\n",
            " |          device (int, optional): if specified, all parameters will be\n",
            " |              copied to that device\n",
            " |      \n",
            " |      Returns:\n",
            " |          Module: self\n",
            " |  \n",
            " |  double(self)\n",
            " |      Casts all floating point parameters and buffers to ``double`` datatype.\n",
            " |      \n",
            " |      Returns:\n",
            " |          Module: self\n",
            " |  \n",
            " |  eval(self)\n",
            " |      Sets the module in evaluation mode.\n",
            " |      \n",
            " |      This has any effect only on certain modules. See documentations of\n",
            " |      particular modules for details of their behaviors in training/evaluation\n",
            " |      mode, if they are affected, e.g. :class:`Dropout`, :class:`BatchNorm`,\n",
            " |      etc.\n",
            " |      \n",
            " |      This is equivalent with :meth:`self.train(False) <torch.nn.Module.train>`.\n",
            " |      \n",
            " |      Returns:\n",
            " |          Module: self\n",
            " |  \n",
            " |  float(self)\n",
            " |      Casts all floating point parameters and buffers to float datatype.\n",
            " |      \n",
            " |      Returns:\n",
            " |          Module: self\n",
            " |  \n",
            " |  half(self)\n",
            " |      Casts all floating point parameters and buffers to ``half`` datatype.\n",
            " |      \n",
            " |      Returns:\n",
            " |          Module: self\n",
            " |  \n",
            " |  load_state_dict(self, state_dict, strict=True)\n",
            " |      Copies parameters and buffers from :attr:`state_dict` into\n",
            " |      this module and its descendants. If :attr:`strict` is ``True``, then\n",
            " |      the keys of :attr:`state_dict` must exactly match the keys returned\n",
            " |      by this module's :meth:`~torch.nn.Module.state_dict` function.\n",
            " |      \n",
            " |      Arguments:\n",
            " |          state_dict (dict): a dict containing parameters and\n",
            " |              persistent buffers.\n",
            " |          strict (bool, optional): whether to strictly enforce that the keys\n",
            " |              in :attr:`state_dict` match the keys returned by this module's\n",
            " |              :meth:`~torch.nn.Module.state_dict` function. Default: ``True``\n",
            " |      \n",
            " |      Returns:\n",
            " |          ``NamedTuple`` with ``missing_keys`` and ``unexpected_keys`` fields:\n",
            " |              * **missing_keys** is a list of str containing the missing keys\n",
            " |              * **unexpected_keys** is a list of str containing the unexpected keys\n",
            " |  \n",
            " |  modules(self)\n",
            " |      Returns an iterator over all modules in the network.\n",
            " |      \n",
            " |      Yields:\n",
            " |          Module: a module in the network\n",
            " |      \n",
            " |      Note:\n",
            " |          Duplicate modules are returned only once. In the following\n",
            " |          example, ``l`` will be returned only once.\n",
            " |      \n",
            " |      Example::\n",
            " |      \n",
            " |          >>> l = nn.Linear(2, 2)\n",
            " |          >>> net = nn.Sequential(l, l)\n",
            " |          >>> for idx, m in enumerate(net.modules()):\n",
            " |                  print(idx, '->', m)\n",
            " |      \n",
            " |          0 -> Sequential(\n",
            " |            (0): Linear(in_features=2, out_features=2, bias=True)\n",
            " |            (1): Linear(in_features=2, out_features=2, bias=True)\n",
            " |          )\n",
            " |          1 -> Linear(in_features=2, out_features=2, bias=True)\n",
            " |  \n",
            " |  named_buffers(self, prefix='', recurse=True)\n",
            " |      Returns an iterator over module buffers, yielding both the\n",
            " |      name of the buffer as well as the buffer itself.\n",
            " |      \n",
            " |      Args:\n",
            " |          prefix (str): prefix to prepend to all buffer names.\n",
            " |          recurse (bool): if True, then yields buffers of this module\n",
            " |              and all submodules. Otherwise, yields only buffers that\n",
            " |              are direct members of this module.\n",
            " |      \n",
            " |      Yields:\n",
            " |          (string, torch.Tensor): Tuple containing the name and buffer\n",
            " |      \n",
            " |      Example::\n",
            " |      \n",
            " |          >>> for name, buf in self.named_buffers():\n",
            " |          >>>    if name in ['running_var']:\n",
            " |          >>>        print(buf.size())\n",
            " |  \n",
            " |  named_children(self)\n",
            " |      Returns an iterator over immediate children modules, yielding both\n",
            " |      the name of the module as well as the module itself.\n",
            " |      \n",
            " |      Yields:\n",
            " |          (string, Module): Tuple containing a name and child module\n",
            " |      \n",
            " |      Example::\n",
            " |      \n",
            " |          >>> for name, module in model.named_children():\n",
            " |          >>>     if name in ['conv4', 'conv5']:\n",
            " |          >>>         print(module)\n",
            " |  \n",
            " |  named_modules(self, memo=None, prefix='')\n",
            " |      Returns an iterator over all modules in the network, yielding\n",
            " |      both the name of the module as well as the module itself.\n",
            " |      \n",
            " |      Yields:\n",
            " |          (string, Module): Tuple of name and module\n",
            " |      \n",
            " |      Note:\n",
            " |          Duplicate modules are returned only once. In the following\n",
            " |          example, ``l`` will be returned only once.\n",
            " |      \n",
            " |      Example::\n",
            " |      \n",
            " |          >>> l = nn.Linear(2, 2)\n",
            " |          >>> net = nn.Sequential(l, l)\n",
            " |          >>> for idx, m in enumerate(net.named_modules()):\n",
            " |                  print(idx, '->', m)\n",
            " |      \n",
            " |          0 -> ('', Sequential(\n",
            " |            (0): Linear(in_features=2, out_features=2, bias=True)\n",
            " |            (1): Linear(in_features=2, out_features=2, bias=True)\n",
            " |          ))\n",
            " |          1 -> ('0', Linear(in_features=2, out_features=2, bias=True))\n",
            " |  \n",
            " |  named_parameters(self, prefix='', recurse=True)\n",
            " |      Returns an iterator over module parameters, yielding both the\n",
            " |      name of the parameter as well as the parameter itself.\n",
            " |      \n",
            " |      Args:\n",
            " |          prefix (str): prefix to prepend to all parameter names.\n",
            " |          recurse (bool): if True, then yields parameters of this module\n",
            " |              and all submodules. Otherwise, yields only parameters that\n",
            " |              are direct members of this module.\n",
            " |      \n",
            " |      Yields:\n",
            " |          (string, Parameter): Tuple containing the name and parameter\n",
            " |      \n",
            " |      Example::\n",
            " |      \n",
            " |          >>> for name, param in self.named_parameters():\n",
            " |          >>>    if name in ['bias']:\n",
            " |          >>>        print(param.size())\n",
            " |  \n",
            " |  parameters(self, recurse=True)\n",
            " |      Returns an iterator over module parameters.\n",
            " |      \n",
            " |      This is typically passed to an optimizer.\n",
            " |      \n",
            " |      Args:\n",
            " |          recurse (bool): if True, then yields parameters of this module\n",
            " |              and all submodules. Otherwise, yields only parameters that\n",
            " |              are direct members of this module.\n",
            " |      \n",
            " |      Yields:\n",
            " |          Parameter: module parameter\n",
            " |      \n",
            " |      Example::\n",
            " |      \n",
            " |          >>> for param in model.parameters():\n",
            " |          >>>     print(type(param.data), param.size())\n",
            " |          <class 'torch.FloatTensor'> (20L,)\n",
            " |          <class 'torch.FloatTensor'> (20L, 1L, 5L, 5L)\n",
            " |  \n",
            " |  register_backward_hook(self, hook)\n",
            " |      Registers a backward hook on the module.\n",
            " |      \n",
            " |      The hook will be called every time the gradients with respect to module\n",
            " |      inputs are computed. The hook should have the following signature::\n",
            " |      \n",
            " |          hook(module, grad_input, grad_output) -> Tensor or None\n",
            " |      \n",
            " |      The :attr:`grad_input` and :attr:`grad_output` may be tuples if the\n",
            " |      module has multiple inputs or outputs. The hook should not modify its\n",
            " |      arguments, but it can optionally return a new gradient with respect to\n",
            " |      input that will be used in place of :attr:`grad_input` in subsequent\n",
            " |      computations.\n",
            " |      \n",
            " |      Returns:\n",
            " |          :class:`torch.utils.hooks.RemovableHandle`:\n",
            " |              a handle that can be used to remove the added hook by calling\n",
            " |              ``handle.remove()``\n",
            " |      \n",
            " |      .. warning ::\n",
            " |      \n",
            " |          The current implementation will not have the presented behavior\n",
            " |          for complex :class:`Module` that perform many operations.\n",
            " |          In some failure cases, :attr:`grad_input` and :attr:`grad_output` will only\n",
            " |          contain the gradients for a subset of the inputs and outputs.\n",
            " |          For such :class:`Module`, you should use :func:`torch.Tensor.register_hook`\n",
            " |          directly on a specific input or output to get the required gradients.\n",
            " |  \n",
            " |  register_buffer(self, name, tensor)\n",
            " |      Adds a persistent buffer to the module.\n",
            " |      \n",
            " |      This is typically used to register a buffer that should not to be\n",
            " |      considered a model parameter. For example, BatchNorm's ``running_mean``\n",
            " |      is not a parameter, but is part of the persistent state.\n",
            " |      \n",
            " |      Buffers can be accessed as attributes using given names.\n",
            " |      \n",
            " |      Args:\n",
            " |          name (string): name of the buffer. The buffer can be accessed\n",
            " |              from this module using the given name\n",
            " |          tensor (Tensor): buffer to be registered.\n",
            " |      \n",
            " |      Example::\n",
            " |      \n",
            " |          >>> self.register_buffer('running_mean', torch.zeros(num_features))\n",
            " |  \n",
            " |  register_forward_hook(self, hook)\n",
            " |      Registers a forward hook on the module.\n",
            " |      \n",
            " |      The hook will be called every time after :func:`forward` has computed an output.\n",
            " |      It should have the following signature::\n",
            " |      \n",
            " |          hook(module, input, output) -> None or modified output\n",
            " |      \n",
            " |      The hook can modify the output. It can modify the input inplace but\n",
            " |      it will not have effect on forward since this is called after\n",
            " |      :func:`forward` is called.\n",
            " |      \n",
            " |      Returns:\n",
            " |          :class:`torch.utils.hooks.RemovableHandle`:\n",
            " |              a handle that can be used to remove the added hook by calling\n",
            " |              ``handle.remove()``\n",
            " |  \n",
            " |  register_forward_pre_hook(self, hook)\n",
            " |      Registers a forward pre-hook on the module.\n",
            " |      \n",
            " |      The hook will be called every time before :func:`forward` is invoked.\n",
            " |      It should have the following signature::\n",
            " |      \n",
            " |          hook(module, input) -> None or modified input\n",
            " |      \n",
            " |      The hook can modify the input. User can either return a tuple or a\n",
            " |      single modified value in the hook. We will wrap the value into a tuple\n",
            " |      if a single value is returned(unless that value is already a tuple).\n",
            " |      \n",
            " |      Returns:\n",
            " |          :class:`torch.utils.hooks.RemovableHandle`:\n",
            " |              a handle that can be used to remove the added hook by calling\n",
            " |              ``handle.remove()``\n",
            " |  \n",
            " |  register_parameter(self, name, param)\n",
            " |      Adds a parameter to the module.\n",
            " |      \n",
            " |      The parameter can be accessed as an attribute using given name.\n",
            " |      \n",
            " |      Args:\n",
            " |          name (string): name of the parameter. The parameter can be accessed\n",
            " |              from this module using the given name\n",
            " |          param (Parameter): parameter to be added to the module.\n",
            " |  \n",
            " |  requires_grad_(self, requires_grad=True)\n",
            " |      Change if autograd should record operations on parameters in this\n",
            " |      module.\n",
            " |      \n",
            " |      This method sets the parameters' :attr:`requires_grad` attributes\n",
            " |      in-place.\n",
            " |      \n",
            " |      This method is helpful for freezing part of the module for finetuning\n",
            " |      or training parts of a model individually (e.g., GAN training).\n",
            " |      \n",
            " |      Args:\n",
            " |          requires_grad (bool): whether autograd should record operations on\n",
            " |                                parameters in this module. Default: ``True``.\n",
            " |      \n",
            " |      Returns:\n",
            " |          Module: self\n",
            " |  \n",
            " |  share_memory(self)\n",
            " |  \n",
            " |  state_dict(self, destination=None, prefix='', keep_vars=False)\n",
            " |      Returns a dictionary containing a whole state of the module.\n",
            " |      \n",
            " |      Both parameters and persistent buffers (e.g. running averages) are\n",
            " |      included. Keys are corresponding parameter and buffer names.\n",
            " |      \n",
            " |      Returns:\n",
            " |          dict:\n",
            " |              a dictionary containing a whole state of the module\n",
            " |      \n",
            " |      Example::\n",
            " |      \n",
            " |          >>> module.state_dict().keys()\n",
            " |          ['bias', 'weight']\n",
            " |  \n",
            " |  to(self, *args, **kwargs)\n",
            " |      Moves and/or casts the parameters and buffers.\n",
            " |      \n",
            " |      This can be called as\n",
            " |      \n",
            " |      .. function:: to(device=None, dtype=None, non_blocking=False)\n",
            " |      \n",
            " |      .. function:: to(dtype, non_blocking=False)\n",
            " |      \n",
            " |      .. function:: to(tensor, non_blocking=False)\n",
            " |      \n",
            " |      Its signature is similar to :meth:`torch.Tensor.to`, but only accepts\n",
            " |      floating point desired :attr:`dtype` s. In addition, this method will\n",
            " |      only cast the floating point parameters and buffers to :attr:`dtype`\n",
            " |      (if given). The integral parameters and buffers will be moved\n",
            " |      :attr:`device`, if that is given, but with dtypes unchanged. When\n",
            " |      :attr:`non_blocking` is set, it tries to convert/move asynchronously\n",
            " |      with respect to the host if possible, e.g., moving CPU Tensors with\n",
            " |      pinned memory to CUDA devices.\n",
            " |      \n",
            " |      See below for examples.\n",
            " |      \n",
            " |      .. note::\n",
            " |          This method modifies the module in-place.\n",
            " |      \n",
            " |      Args:\n",
            " |          device (:class:`torch.device`): the desired device of the parameters\n",
            " |              and buffers in this module\n",
            " |          dtype (:class:`torch.dtype`): the desired floating point type of\n",
            " |              the floating point parameters and buffers in this module\n",
            " |          tensor (torch.Tensor): Tensor whose dtype and device are the desired\n",
            " |              dtype and device for all parameters and buffers in this module\n",
            " |      \n",
            " |      Returns:\n",
            " |          Module: self\n",
            " |      \n",
            " |      Example::\n",
            " |      \n",
            " |          >>> linear = nn.Linear(2, 2)\n",
            " |          >>> linear.weight\n",
            " |          Parameter containing:\n",
            " |          tensor([[ 0.1913, -0.3420],\n",
            " |                  [-0.5113, -0.2325]])\n",
            " |          >>> linear.to(torch.double)\n",
            " |          Linear(in_features=2, out_features=2, bias=True)\n",
            " |          >>> linear.weight\n",
            " |          Parameter containing:\n",
            " |          tensor([[ 0.1913, -0.3420],\n",
            " |                  [-0.5113, -0.2325]], dtype=torch.float64)\n",
            " |          >>> gpu1 = torch.device(\"cuda:1\")\n",
            " |          >>> linear.to(gpu1, dtype=torch.half, non_blocking=True)\n",
            " |          Linear(in_features=2, out_features=2, bias=True)\n",
            " |          >>> linear.weight\n",
            " |          Parameter containing:\n",
            " |          tensor([[ 0.1914, -0.3420],\n",
            " |                  [-0.5112, -0.2324]], dtype=torch.float16, device='cuda:1')\n",
            " |          >>> cpu = torch.device(\"cpu\")\n",
            " |          >>> linear.to(cpu)\n",
            " |          Linear(in_features=2, out_features=2, bias=True)\n",
            " |          >>> linear.weight\n",
            " |          Parameter containing:\n",
            " |          tensor([[ 0.1914, -0.3420],\n",
            " |                  [-0.5112, -0.2324]], dtype=torch.float16)\n",
            " |  \n",
            " |  train(self, mode=True)\n",
            " |      Sets the module in training mode.\n",
            " |      \n",
            " |      This has any effect only on certain modules. See documentations of\n",
            " |      particular modules for details of their behaviors in training/evaluation\n",
            " |      mode, if they are affected, e.g. :class:`Dropout`, :class:`BatchNorm`,\n",
            " |      etc.\n",
            " |      \n",
            " |      Args:\n",
            " |          mode (bool): whether to set training mode (``True``) or evaluation\n",
            " |                       mode (``False``). Default: ``True``.\n",
            " |      \n",
            " |      Returns:\n",
            " |          Module: self\n",
            " |  \n",
            " |  type(self, dst_type)\n",
            " |      Casts all parameters and buffers to :attr:`dst_type`.\n",
            " |      \n",
            " |      Arguments:\n",
            " |          dst_type (type or string): the desired type\n",
            " |      \n",
            " |      Returns:\n",
            " |          Module: self\n",
            " |  \n",
            " |  zero_grad(self)\n",
            " |      Sets gradients of all model parameters to zero.\n",
            " |  \n",
            " |  ----------------------------------------------------------------------\n",
            " |  Data descriptors inherited from torch.nn.modules.module.Module:\n",
            " |  \n",
            " |  __dict__\n",
            " |      dictionary for instance variables (if defined)\n",
            " |  \n",
            " |  __weakref__\n",
            " |      list of weak references to the object (if defined)\n",
            " |  \n",
            " |  ----------------------------------------------------------------------\n",
            " |  Data and other attributes inherited from torch.nn.modules.module.Module:\n",
            " |  \n",
            " |  dump_patches = False\n",
            "\n"
          ],
          "name": "stdout"
        }
      ]
    },
    {
      "cell_type": "code",
      "metadata": {
        "id": "_LUFif4-db4z",
        "colab_type": "code",
        "colab": {}
      },
      "source": [
        ""
      ],
      "execution_count": 0,
      "outputs": []
    },
    {
      "cell_type": "code",
      "metadata": {
        "id": "QdhbbXJadb7a",
        "colab_type": "code",
        "colab": {}
      },
      "source": [
        ""
      ],
      "execution_count": 0,
      "outputs": []
    },
    {
      "cell_type": "code",
      "metadata": {
        "id": "keSlu0S3db9_",
        "colab_type": "code",
        "colab": {}
      },
      "source": [
        ""
      ],
      "execution_count": 0,
      "outputs": []
    },
    {
      "cell_type": "code",
      "metadata": {
        "id": "KzESKdXYdcAe",
        "colab_type": "code",
        "colab": {}
      },
      "source": [
        ""
      ],
      "execution_count": 0,
      "outputs": []
    },
    {
      "cell_type": "code",
      "metadata": {
        "id": "IO2A9htPdcGD",
        "colab_type": "code",
        "colab": {}
      },
      "source": [
        ""
      ],
      "execution_count": 0,
      "outputs": []
    },
    {
      "cell_type": "code",
      "metadata": {
        "id": "G5RoMVc4dcDV",
        "colab_type": "code",
        "colab": {}
      },
      "source": [
        ""
      ],
      "execution_count": 0,
      "outputs": []
    },
    {
      "cell_type": "code",
      "metadata": {
        "id": "_52rfofVYS5F",
        "colab_type": "code",
        "colab": {}
      },
      "source": [
        "# wir_10 = gru.weight_ih_l0[0,:].squeeze(0)\n",
        "# wiz_10 = gru.weight_ih_l0[1,:].squeeze(0)\n",
        "# win_10 = gru.weight_ih_l0[2,:].squeeze(0)\n",
        "\n",
        "# whr_10 = gru.weight_hh_l0[0]\n",
        "# whz_10 = gru.weight_hh_l0[1]\n",
        "# whn_10 = gru.weight_hh_l0[2]\n",
        "\n",
        "# x = seq[0][0]\n",
        "\n",
        "# h_previous = torch.Tensor([0.0])\n",
        "\n",
        "# # h_previous = torch.Tensor([-0.2382])\n",
        "\n",
        "# r = torch.sigmoid(dot(x,wir_10)   + dot(h_previous,whr_10)   )\n",
        "# z = torch.sigmoid(dot(x,wiz_10)   + dot(h_previous,whz_10)   )\n",
        "# n = torch.tanh(   dot(x,win_10)   + r*( dot(h_previous,whn_10) ) )\n",
        "# h = (1-z)*n + z*h_previous"
      ],
      "execution_count": 0,
      "outputs": []
    },
    {
      "cell_type": "code",
      "metadata": {
        "id": "aG5i-2NrR4-A",
        "colab_type": "code",
        "colab": {
          "base_uri": "https://localhost:8080/",
          "height": 34
        },
        "outputId": "e41a141c-5e94-44c9-df5e-ef2816008c82"
      },
      "source": [
        "h"
      ],
      "execution_count": 325,
      "outputs": [
        {
          "output_type": "execute_result",
          "data": {
            "text/plain": [
              "tensor(-0.2382, grad_fn=<AddBackward0>)"
            ]
          },
          "metadata": {
            "tags": []
          },
          "execution_count": 325
        }
      ]
    },
    {
      "cell_type": "code",
      "metadata": {
        "id": "wl5FuqjvSvlJ",
        "colab_type": "code",
        "colab": {
          "base_uri": "https://localhost:8080/",
          "height": 85
        },
        "outputId": "74053d52-8832-4f4e-f176-5baea6e05a09"
      },
      "source": [
        "out_all"
      ],
      "execution_count": 331,
      "outputs": [
        {
          "output_type": "execute_result",
          "data": {
            "text/plain": [
              "tensor([[[-0.3149],\n",
              "         [-0.4718],\n",
              "         [-0.5516],\n",
              "         [-0.6281]]], grad_fn=<TransposeBackward1>)"
            ]
          },
          "metadata": {
            "tags": []
          },
          "execution_count": 331
        }
      ]
    },
    {
      "cell_type": "code",
      "metadata": {
        "id": "ThKVUS2PP8Vf",
        "colab_type": "code",
        "colab": {
          "base_uri": "https://localhost:8080/",
          "height": 34
        },
        "outputId": "57b515eb-0ea1-4a26-fbc8-31700ec99974"
      },
      "source": [
        "out_last"
      ],
      "execution_count": 299,
      "outputs": [
        {
          "output_type": "execute_result",
          "data": {
            "text/plain": [
              "tensor([[[0.5352]]], grad_fn=<StackBackward>)"
            ]
          },
          "metadata": {
            "tags": []
          },
          "execution_count": 299
        }
      ]
    },
    {
      "cell_type": "code",
      "metadata": {
        "id": "PPlaCiSLP9nh",
        "colab_type": "code",
        "colab": {
          "base_uri": "https://localhost:8080/",
          "height": 34
        },
        "outputId": "22a45f34-66bd-415d-8153-7b242a82d7b6"
      },
      "source": [
        "z"
      ],
      "execution_count": 310,
      "outputs": [
        {
          "output_type": "execute_result",
          "data": {
            "text/plain": [
              "tensor(0.7888, grad_fn=<SigmoidBackward>)"
            ]
          },
          "metadata": {
            "tags": []
          },
          "execution_count": 310
        }
      ]
    },
    {
      "cell_type": "code",
      "metadata": {
        "id": "95n-JRGYSOqf",
        "colab_type": "code",
        "colab": {
          "base_uri": "https://localhost:8080/",
          "height": 34
        },
        "outputId": "d5fa3bde-ba81-4a88-bbf7-769de2a3dc78"
      },
      "source": [
        "h_previous.shape"
      ],
      "execution_count": 277,
      "outputs": [
        {
          "output_type": "execute_result",
          "data": {
            "text/plain": [
              "torch.Size([1])"
            ]
          },
          "metadata": {
            "tags": []
          },
          "execution_count": 277
        }
      ]
    },
    {
      "cell_type": "code",
      "metadata": {
        "id": "GDM2hs0GQASg",
        "colab_type": "code",
        "colab": {
          "base_uri": "https://localhost:8080/",
          "height": 1000
        },
        "outputId": "44a45f00-2c5e-4b6f-e85d-fa819c9dc487"
      },
      "source": [
        "help(gru)"
      ],
      "execution_count": 266,
      "outputs": [
        {
          "output_type": "stream",
          "text": [
            "Help on GRU in module torch.nn.modules.rnn object:\n",
            "\n",
            "class GRU(RNNBase)\n",
            " |  Applies a multi-layer gated recurrent unit (GRU) RNN to an input sequence.\n",
            " |  \n",
            " |  \n",
            " |  For each element in the input sequence, each layer computes the following\n",
            " |  function:\n",
            " |  \n",
            " |  .. math::\n",
            " |      \\begin{array}{ll}\n",
            " |          r_t = \\sigma(W_{ir} x_t + b_{ir} + W_{hr} h_{(t-1)} + b_{hr}) \\\\\n",
            " |          z_t = \\sigma(W_{iz} x_t + b_{iz} + W_{hz} h_{(t-1)} + b_{hz}) \\\\\n",
            " |          n_t = \\tanh(W_{in} x_t + b_{in} + r_t * (W_{hn} h_{(t-1)}+ b_{hn})) \\\\\n",
            " |          h_t = (1 - z_t) * n_t + z_t * h_{(t-1)}\n",
            " |      \\end{array}\n",
            " |  \n",
            " |  where :math:`h_t` is the hidden state at time `t`, :math:`x_t` is the input\n",
            " |  at time `t`, :math:`h_{(t-1)}` is the hidden state of the layer\n",
            " |  at time `t-1` or the initial hidden state at time `0`, and :math:`r_t`,\n",
            " |  :math:`z_t`, :math:`n_t` are the reset, update, and new gates, respectively.\n",
            " |  :math:`\\sigma` is the sigmoid function, and :math:`*` is the Hadamard product.\n",
            " |  \n",
            " |  In a multilayer GRU, the input :math:`x^{(l)}_t` of the :math:`l` -th layer\n",
            " |  (:math:`l >= 2`) is the hidden state :math:`h^{(l-1)}_t` of the previous layer multiplied by\n",
            " |  dropout :math:`\\delta^{(l-1)}_t` where each :math:`\\delta^{(l-1)}_t` is a Bernoulli random\n",
            " |  variable which is :math:`0` with probability :attr:`dropout`.\n",
            " |  \n",
            " |  Args:\n",
            " |      input_size: The number of expected features in the input `x`\n",
            " |      hidden_size: The number of features in the hidden state `h`\n",
            " |      num_layers: Number of recurrent layers. E.g., setting ``num_layers=2``\n",
            " |          would mean stacking two GRUs together to form a `stacked GRU`,\n",
            " |          with the second GRU taking in outputs of the first GRU and\n",
            " |          computing the final results. Default: 1\n",
            " |      bias: If ``False``, then the layer does not use bias weights `b_ih` and `b_hh`.\n",
            " |          Default: ``True``\n",
            " |      batch_first: If ``True``, then the input and output tensors are provided\n",
            " |          as (batch, seq, feature). Default: ``False``\n",
            " |      dropout: If non-zero, introduces a `Dropout` layer on the outputs of each\n",
            " |          GRU layer except the last layer, with dropout probability equal to\n",
            " |          :attr:`dropout`. Default: 0\n",
            " |      bidirectional: If ``True``, becomes a bidirectional GRU. Default: ``False``\n",
            " |  \n",
            " |  Inputs: input, h_0\n",
            " |      - **input** of shape `(seq_len, batch, input_size)`: tensor containing the features\n",
            " |        of the input sequence. The input can also be a packed variable length\n",
            " |        sequence. See :func:`torch.nn.utils.rnn.pack_padded_sequence`\n",
            " |        for details.\n",
            " |      - **h_0** of shape `(num_layers * num_directions, batch, hidden_size)`: tensor\n",
            " |        containing the initial hidden state for each element in the batch.\n",
            " |        Defaults to zero if not provided. If the RNN is bidirectional,\n",
            " |        num_directions should be 2, else it should be 1.\n",
            " |  \n",
            " |  Outputs: output, h_n\n",
            " |      - **output** of shape `(seq_len, batch, num_directions * hidden_size)`: tensor\n",
            " |        containing the output features h_t from the last layer of the GRU,\n",
            " |        for each `t`. If a :class:`torch.nn.utils.rnn.PackedSequence` has been\n",
            " |        given as the input, the output will also be a packed sequence.\n",
            " |        For the unpacked case, the directions can be separated\n",
            " |        using ``output.view(seq_len, batch, num_directions, hidden_size)``,\n",
            " |        with forward and backward being direction `0` and `1` respectively.\n",
            " |  \n",
            " |        Similarly, the directions can be separated in the packed case.\n",
            " |      - **h_n** of shape `(num_layers * num_directions, batch, hidden_size)`: tensor\n",
            " |        containing the hidden state for `t = seq_len`\n",
            " |  \n",
            " |        Like *output*, the layers can be separated using\n",
            " |        ``h_n.view(num_layers, num_directions, batch, hidden_size)``.\n",
            " |  \n",
            " |  Shape:\n",
            " |      - Input1: :math:`(L, N, H_{in})` tensor containing input features where\n",
            " |        :math:`H_{in}=\\text{input\\_size}` and `L` represents a sequence length.\n",
            " |      - Input2: :math:`(S, N, H_{out})` tensor\n",
            " |        containing the initial hidden state for each element in the batch.\n",
            " |        :math:`H_{out}=\\text{hidden\\_size}`\n",
            " |        Defaults to zero if not provided. where :math:`S=\\text{num\\_layers} * \\text{num\\_directions}`\n",
            " |        If the RNN is bidirectional, num_directions should be 2, else it should be 1.\n",
            " |      - Output1: :math:`(L, N, H_{all})` where :math:`H_{all}=\\text{num\\_directions} * \\text{hidden\\_size}`\n",
            " |      - Output2: :math:`(S, N, H_{out})` tensor containing the next hidden state\n",
            " |        for each element in the batch\n",
            " |  \n",
            " |  Attributes:\n",
            " |      weight_ih_l[k] : the learnable input-hidden weights of the :math:`\\text{k}^{th}` layer\n",
            " |          (W_ir|W_iz|W_in), of shape `(3*hidden_size, input_size)` for `k = 0`.\n",
            " |          Otherwise, the shape is `(3*hidden_size, num_directions * hidden_size)`\n",
            " |      weight_hh_l[k] : the learnable hidden-hidden weights of the :math:`\\text{k}^{th}` layer\n",
            " |          (W_hr|W_hz|W_hn), of shape `(3*hidden_size, hidden_size)`\n",
            " |      bias_ih_l[k] : the learnable input-hidden bias of the :math:`\\text{k}^{th}` layer\n",
            " |          (b_ir|b_iz|b_in), of shape `(3*hidden_size)`\n",
            " |      bias_hh_l[k] : the learnable hidden-hidden bias of the :math:`\\text{k}^{th}` layer\n",
            " |          (b_hr|b_hz|b_hn), of shape `(3*hidden_size)`\n",
            " |  \n",
            " |  .. note::\n",
            " |      All the weights and biases are initialized from :math:`\\mathcal{U}(-\\sqrt{k}, \\sqrt{k})`\n",
            " |      where :math:`k = \\frac{1}{\\text{hidden\\_size}}`\n",
            " |  \n",
            " |  .. include:: cudnn_persistent_rnn.rst\n",
            " |  \n",
            " |  Examples::\n",
            " |  \n",
            " |      >>> rnn = nn.GRU(10, 20, 2)\n",
            " |      >>> input = torch.randn(5, 3, 10)\n",
            " |      >>> h0 = torch.randn(2, 3, 20)\n",
            " |      >>> output, hn = rnn(input, h0)\n",
            " |  \n",
            " |  Method resolution order:\n",
            " |      GRU\n",
            " |      RNNBase\n",
            " |      torch.nn.modules.module.Module\n",
            " |      builtins.object\n",
            " |  \n",
            " |  Methods defined here:\n",
            " |  \n",
            " |  __init__(self, *args, **kwargs)\n",
            " |      Initializes internal Module state, shared by both nn.Module and ScriptModule.\n",
            " |  \n",
            " |  forward(self, input, hx=None)\n",
            " |      Defines the computation performed at every call.\n",
            " |      \n",
            " |      Should be overridden by all subclasses.\n",
            " |      \n",
            " |      .. note::\n",
            " |          Although the recipe for forward pass needs to be defined within\n",
            " |          this function, one should call the :class:`Module` instance afterwards\n",
            " |          instead of this since the former takes care of running the\n",
            " |          registered hooks while the latter silently ignores them.\n",
            " |  \n",
            " |  ----------------------------------------------------------------------\n",
            " |  Methods inherited from RNNBase:\n",
            " |  \n",
            " |  __setattr__(self, attr, value)\n",
            " |      Implement setattr(self, name, value).\n",
            " |  \n",
            " |  __setstate__(self, d)\n",
            " |  \n",
            " |  check_forward_args(self, input, hidden, batch_sizes)\n",
            " |  \n",
            " |  check_hidden_size(self, hx, expected_hidden_size, msg='Expected hidden size {}, got {}')\n",
            " |  \n",
            " |  check_input(self, input, batch_sizes)\n",
            " |  \n",
            " |  extra_repr(self)\n",
            " |      Set the extra representation of the module\n",
            " |      \n",
            " |      To print customized extra information, you should reimplement\n",
            " |      this method in your own modules. Both single-line and multi-line\n",
            " |      strings are acceptable.\n",
            " |  \n",
            " |  flatten_parameters(self)\n",
            " |      Resets parameter data pointer so that they can use faster code paths.\n",
            " |      \n",
            " |      Right now, this works only if the module is on the GPU and cuDNN is enabled.\n",
            " |      Otherwise, it's a no-op.\n",
            " |  \n",
            " |  get_expected_hidden_size(self, input, batch_sizes)\n",
            " |  \n",
            " |  permute_hidden(self, hx, permutation)\n",
            " |  \n",
            " |  reset_parameters(self)\n",
            " |  \n",
            " |  ----------------------------------------------------------------------\n",
            " |  Data descriptors inherited from RNNBase:\n",
            " |  \n",
            " |  all_weights\n",
            " |  \n",
            " |  ----------------------------------------------------------------------\n",
            " |  Data and other attributes inherited from RNNBase:\n",
            " |  \n",
            " |  __constants__ = ['mode', 'input_size', 'hidden_size', 'num_layers', 'b...\n",
            " |  \n",
            " |  ----------------------------------------------------------------------\n",
            " |  Methods inherited from torch.nn.modules.module.Module:\n",
            " |  \n",
            " |  __call__(self, *input, **kwargs)\n",
            " |      Call self as a function.\n",
            " |  \n",
            " |  __delattr__(self, name)\n",
            " |      Implement delattr(self, name).\n",
            " |  \n",
            " |  __dir__(self)\n",
            " |      __dir__() -> list\n",
            " |      default dir() implementation\n",
            " |  \n",
            " |  __getattr__(self, name)\n",
            " |  \n",
            " |  __repr__(self)\n",
            " |      Return repr(self).\n",
            " |  \n",
            " |  add_module(self, name, module)\n",
            " |      Adds a child module to the current module.\n",
            " |      \n",
            " |      The module can be accessed as an attribute using the given name.\n",
            " |      \n",
            " |      Args:\n",
            " |          name (string): name of the child module. The child module can be\n",
            " |              accessed from this module using the given name\n",
            " |          module (Module): child module to be added to the module.\n",
            " |  \n",
            " |  apply(self, fn)\n",
            " |      Applies ``fn`` recursively to every submodule (as returned by ``.children()``)\n",
            " |      as well as self. Typical use includes initializing the parameters of a model\n",
            " |      (see also :ref:`nn-init-doc`).\n",
            " |      \n",
            " |      Args:\n",
            " |          fn (:class:`Module` -> None): function to be applied to each submodule\n",
            " |      \n",
            " |      Returns:\n",
            " |          Module: self\n",
            " |      \n",
            " |      Example::\n",
            " |      \n",
            " |          >>> def init_weights(m):\n",
            " |          >>>     print(m)\n",
            " |          >>>     if type(m) == nn.Linear:\n",
            " |          >>>         m.weight.data.fill_(1.0)\n",
            " |          >>>         print(m.weight)\n",
            " |          >>> net = nn.Sequential(nn.Linear(2, 2), nn.Linear(2, 2))\n",
            " |          >>> net.apply(init_weights)\n",
            " |          Linear(in_features=2, out_features=2, bias=True)\n",
            " |          Parameter containing:\n",
            " |          tensor([[ 1.,  1.],\n",
            " |                  [ 1.,  1.]])\n",
            " |          Linear(in_features=2, out_features=2, bias=True)\n",
            " |          Parameter containing:\n",
            " |          tensor([[ 1.,  1.],\n",
            " |                  [ 1.,  1.]])\n",
            " |          Sequential(\n",
            " |            (0): Linear(in_features=2, out_features=2, bias=True)\n",
            " |            (1): Linear(in_features=2, out_features=2, bias=True)\n",
            " |          )\n",
            " |          Sequential(\n",
            " |            (0): Linear(in_features=2, out_features=2, bias=True)\n",
            " |            (1): Linear(in_features=2, out_features=2, bias=True)\n",
            " |          )\n",
            " |  \n",
            " |  buffers(self, recurse=True)\n",
            " |      Returns an iterator over module buffers.\n",
            " |      \n",
            " |      Args:\n",
            " |          recurse (bool): if True, then yields buffers of this module\n",
            " |              and all submodules. Otherwise, yields only buffers that\n",
            " |              are direct members of this module.\n",
            " |      \n",
            " |      Yields:\n",
            " |          torch.Tensor: module buffer\n",
            " |      \n",
            " |      Example::\n",
            " |      \n",
            " |          >>> for buf in model.buffers():\n",
            " |          >>>     print(type(buf.data), buf.size())\n",
            " |          <class 'torch.FloatTensor'> (20L,)\n",
            " |          <class 'torch.FloatTensor'> (20L, 1L, 5L, 5L)\n",
            " |  \n",
            " |  children(self)\n",
            " |      Returns an iterator over immediate children modules.\n",
            " |      \n",
            " |      Yields:\n",
            " |          Module: a child module\n",
            " |  \n",
            " |  cpu(self)\n",
            " |      Moves all model parameters and buffers to the CPU.\n",
            " |      \n",
            " |      Returns:\n",
            " |          Module: self\n",
            " |  \n",
            " |  cuda(self, device=None)\n",
            " |      Moves all model parameters and buffers to the GPU.\n",
            " |      \n",
            " |      This also makes associated parameters and buffers different objects. So\n",
            " |      it should be called before constructing optimizer if the module will\n",
            " |      live on GPU while being optimized.\n",
            " |      \n",
            " |      Arguments:\n",
            " |          device (int, optional): if specified, all parameters will be\n",
            " |              copied to that device\n",
            " |      \n",
            " |      Returns:\n",
            " |          Module: self\n",
            " |  \n",
            " |  double(self)\n",
            " |      Casts all floating point parameters and buffers to ``double`` datatype.\n",
            " |      \n",
            " |      Returns:\n",
            " |          Module: self\n",
            " |  \n",
            " |  eval(self)\n",
            " |      Sets the module in evaluation mode.\n",
            " |      \n",
            " |      This has any effect only on certain modules. See documentations of\n",
            " |      particular modules for details of their behaviors in training/evaluation\n",
            " |      mode, if they are affected, e.g. :class:`Dropout`, :class:`BatchNorm`,\n",
            " |      etc.\n",
            " |      \n",
            " |      This is equivalent with :meth:`self.train(False) <torch.nn.Module.train>`.\n",
            " |      \n",
            " |      Returns:\n",
            " |          Module: self\n",
            " |  \n",
            " |  float(self)\n",
            " |      Casts all floating point parameters and buffers to float datatype.\n",
            " |      \n",
            " |      Returns:\n",
            " |          Module: self\n",
            " |  \n",
            " |  half(self)\n",
            " |      Casts all floating point parameters and buffers to ``half`` datatype.\n",
            " |      \n",
            " |      Returns:\n",
            " |          Module: self\n",
            " |  \n",
            " |  load_state_dict(self, state_dict, strict=True)\n",
            " |      Copies parameters and buffers from :attr:`state_dict` into\n",
            " |      this module and its descendants. If :attr:`strict` is ``True``, then\n",
            " |      the keys of :attr:`state_dict` must exactly match the keys returned\n",
            " |      by this module's :meth:`~torch.nn.Module.state_dict` function.\n",
            " |      \n",
            " |      Arguments:\n",
            " |          state_dict (dict): a dict containing parameters and\n",
            " |              persistent buffers.\n",
            " |          strict (bool, optional): whether to strictly enforce that the keys\n",
            " |              in :attr:`state_dict` match the keys returned by this module's\n",
            " |              :meth:`~torch.nn.Module.state_dict` function. Default: ``True``\n",
            " |      \n",
            " |      Returns:\n",
            " |          ``NamedTuple`` with ``missing_keys`` and ``unexpected_keys`` fields:\n",
            " |              * **missing_keys** is a list of str containing the missing keys\n",
            " |              * **unexpected_keys** is a list of str containing the unexpected keys\n",
            " |  \n",
            " |  modules(self)\n",
            " |      Returns an iterator over all modules in the network.\n",
            " |      \n",
            " |      Yields:\n",
            " |          Module: a module in the network\n",
            " |      \n",
            " |      Note:\n",
            " |          Duplicate modules are returned only once. In the following\n",
            " |          example, ``l`` will be returned only once.\n",
            " |      \n",
            " |      Example::\n",
            " |      \n",
            " |          >>> l = nn.Linear(2, 2)\n",
            " |          >>> net = nn.Sequential(l, l)\n",
            " |          >>> for idx, m in enumerate(net.modules()):\n",
            " |                  print(idx, '->', m)\n",
            " |      \n",
            " |          0 -> Sequential(\n",
            " |            (0): Linear(in_features=2, out_features=2, bias=True)\n",
            " |            (1): Linear(in_features=2, out_features=2, bias=True)\n",
            " |          )\n",
            " |          1 -> Linear(in_features=2, out_features=2, bias=True)\n",
            " |  \n",
            " |  named_buffers(self, prefix='', recurse=True)\n",
            " |      Returns an iterator over module buffers, yielding both the\n",
            " |      name of the buffer as well as the buffer itself.\n",
            " |      \n",
            " |      Args:\n",
            " |          prefix (str): prefix to prepend to all buffer names.\n",
            " |          recurse (bool): if True, then yields buffers of this module\n",
            " |              and all submodules. Otherwise, yields only buffers that\n",
            " |              are direct members of this module.\n",
            " |      \n",
            " |      Yields:\n",
            " |          (string, torch.Tensor): Tuple containing the name and buffer\n",
            " |      \n",
            " |      Example::\n",
            " |      \n",
            " |          >>> for name, buf in self.named_buffers():\n",
            " |          >>>    if name in ['running_var']:\n",
            " |          >>>        print(buf.size())\n",
            " |  \n",
            " |  named_children(self)\n",
            " |      Returns an iterator over immediate children modules, yielding both\n",
            " |      the name of the module as well as the module itself.\n",
            " |      \n",
            " |      Yields:\n",
            " |          (string, Module): Tuple containing a name and child module\n",
            " |      \n",
            " |      Example::\n",
            " |      \n",
            " |          >>> for name, module in model.named_children():\n",
            " |          >>>     if name in ['conv4', 'conv5']:\n",
            " |          >>>         print(module)\n",
            " |  \n",
            " |  named_modules(self, memo=None, prefix='')\n",
            " |      Returns an iterator over all modules in the network, yielding\n",
            " |      both the name of the module as well as the module itself.\n",
            " |      \n",
            " |      Yields:\n",
            " |          (string, Module): Tuple of name and module\n",
            " |      \n",
            " |      Note:\n",
            " |          Duplicate modules are returned only once. In the following\n",
            " |          example, ``l`` will be returned only once.\n",
            " |      \n",
            " |      Example::\n",
            " |      \n",
            " |          >>> l = nn.Linear(2, 2)\n",
            " |          >>> net = nn.Sequential(l, l)\n",
            " |          >>> for idx, m in enumerate(net.named_modules()):\n",
            " |                  print(idx, '->', m)\n",
            " |      \n",
            " |          0 -> ('', Sequential(\n",
            " |            (0): Linear(in_features=2, out_features=2, bias=True)\n",
            " |            (1): Linear(in_features=2, out_features=2, bias=True)\n",
            " |          ))\n",
            " |          1 -> ('0', Linear(in_features=2, out_features=2, bias=True))\n",
            " |  \n",
            " |  named_parameters(self, prefix='', recurse=True)\n",
            " |      Returns an iterator over module parameters, yielding both the\n",
            " |      name of the parameter as well as the parameter itself.\n",
            " |      \n",
            " |      Args:\n",
            " |          prefix (str): prefix to prepend to all parameter names.\n",
            " |          recurse (bool): if True, then yields parameters of this module\n",
            " |              and all submodules. Otherwise, yields only parameters that\n",
            " |              are direct members of this module.\n",
            " |      \n",
            " |      Yields:\n",
            " |          (string, Parameter): Tuple containing the name and parameter\n",
            " |      \n",
            " |      Example::\n",
            " |      \n",
            " |          >>> for name, param in self.named_parameters():\n",
            " |          >>>    if name in ['bias']:\n",
            " |          >>>        print(param.size())\n",
            " |  \n",
            " |  parameters(self, recurse=True)\n",
            " |      Returns an iterator over module parameters.\n",
            " |      \n",
            " |      This is typically passed to an optimizer.\n",
            " |      \n",
            " |      Args:\n",
            " |          recurse (bool): if True, then yields parameters of this module\n",
            " |              and all submodules. Otherwise, yields only parameters that\n",
            " |              are direct members of this module.\n",
            " |      \n",
            " |      Yields:\n",
            " |          Parameter: module parameter\n",
            " |      \n",
            " |      Example::\n",
            " |      \n",
            " |          >>> for param in model.parameters():\n",
            " |          >>>     print(type(param.data), param.size())\n",
            " |          <class 'torch.FloatTensor'> (20L,)\n",
            " |          <class 'torch.FloatTensor'> (20L, 1L, 5L, 5L)\n",
            " |  \n",
            " |  register_backward_hook(self, hook)\n",
            " |      Registers a backward hook on the module.\n",
            " |      \n",
            " |      The hook will be called every time the gradients with respect to module\n",
            " |      inputs are computed. The hook should have the following signature::\n",
            " |      \n",
            " |          hook(module, grad_input, grad_output) -> Tensor or None\n",
            " |      \n",
            " |      The :attr:`grad_input` and :attr:`grad_output` may be tuples if the\n",
            " |      module has multiple inputs or outputs. The hook should not modify its\n",
            " |      arguments, but it can optionally return a new gradient with respect to\n",
            " |      input that will be used in place of :attr:`grad_input` in subsequent\n",
            " |      computations.\n",
            " |      \n",
            " |      Returns:\n",
            " |          :class:`torch.utils.hooks.RemovableHandle`:\n",
            " |              a handle that can be used to remove the added hook by calling\n",
            " |              ``handle.remove()``\n",
            " |      \n",
            " |      .. warning ::\n",
            " |      \n",
            " |          The current implementation will not have the presented behavior\n",
            " |          for complex :class:`Module` that perform many operations.\n",
            " |          In some failure cases, :attr:`grad_input` and :attr:`grad_output` will only\n",
            " |          contain the gradients for a subset of the inputs and outputs.\n",
            " |          For such :class:`Module`, you should use :func:`torch.Tensor.register_hook`\n",
            " |          directly on a specific input or output to get the required gradients.\n",
            " |  \n",
            " |  register_buffer(self, name, tensor)\n",
            " |      Adds a persistent buffer to the module.\n",
            " |      \n",
            " |      This is typically used to register a buffer that should not to be\n",
            " |      considered a model parameter. For example, BatchNorm's ``running_mean``\n",
            " |      is not a parameter, but is part of the persistent state.\n",
            " |      \n",
            " |      Buffers can be accessed as attributes using given names.\n",
            " |      \n",
            " |      Args:\n",
            " |          name (string): name of the buffer. The buffer can be accessed\n",
            " |              from this module using the given name\n",
            " |          tensor (Tensor): buffer to be registered.\n",
            " |      \n",
            " |      Example::\n",
            " |      \n",
            " |          >>> self.register_buffer('running_mean', torch.zeros(num_features))\n",
            " |  \n",
            " |  register_forward_hook(self, hook)\n",
            " |      Registers a forward hook on the module.\n",
            " |      \n",
            " |      The hook will be called every time after :func:`forward` has computed an output.\n",
            " |      It should have the following signature::\n",
            " |      \n",
            " |          hook(module, input, output) -> None or modified output\n",
            " |      \n",
            " |      The hook can modify the output. It can modify the input inplace but\n",
            " |      it will not have effect on forward since this is called after\n",
            " |      :func:`forward` is called.\n",
            " |      \n",
            " |      Returns:\n",
            " |          :class:`torch.utils.hooks.RemovableHandle`:\n",
            " |              a handle that can be used to remove the added hook by calling\n",
            " |              ``handle.remove()``\n",
            " |  \n",
            " |  register_forward_pre_hook(self, hook)\n",
            " |      Registers a forward pre-hook on the module.\n",
            " |      \n",
            " |      The hook will be called every time before :func:`forward` is invoked.\n",
            " |      It should have the following signature::\n",
            " |      \n",
            " |          hook(module, input) -> None or modified input\n",
            " |      \n",
            " |      The hook can modify the input. User can either return a tuple or a\n",
            " |      single modified value in the hook. We will wrap the value into a tuple\n",
            " |      if a single value is returned(unless that value is already a tuple).\n",
            " |      \n",
            " |      Returns:\n",
            " |          :class:`torch.utils.hooks.RemovableHandle`:\n",
            " |              a handle that can be used to remove the added hook by calling\n",
            " |              ``handle.remove()``\n",
            " |  \n",
            " |  register_parameter(self, name, param)\n",
            " |      Adds a parameter to the module.\n",
            " |      \n",
            " |      The parameter can be accessed as an attribute using given name.\n",
            " |      \n",
            " |      Args:\n",
            " |          name (string): name of the parameter. The parameter can be accessed\n",
            " |              from this module using the given name\n",
            " |          param (Parameter): parameter to be added to the module.\n",
            " |  \n",
            " |  requires_grad_(self, requires_grad=True)\n",
            " |      Change if autograd should record operations on parameters in this\n",
            " |      module.\n",
            " |      \n",
            " |      This method sets the parameters' :attr:`requires_grad` attributes\n",
            " |      in-place.\n",
            " |      \n",
            " |      This method is helpful for freezing part of the module for finetuning\n",
            " |      or training parts of a model individually (e.g., GAN training).\n",
            " |      \n",
            " |      Args:\n",
            " |          requires_grad (bool): whether autograd should record operations on\n",
            " |                                parameters in this module. Default: ``True``.\n",
            " |      \n",
            " |      Returns:\n",
            " |          Module: self\n",
            " |  \n",
            " |  share_memory(self)\n",
            " |  \n",
            " |  state_dict(self, destination=None, prefix='', keep_vars=False)\n",
            " |      Returns a dictionary containing a whole state of the module.\n",
            " |      \n",
            " |      Both parameters and persistent buffers (e.g. running averages) are\n",
            " |      included. Keys are corresponding parameter and buffer names.\n",
            " |      \n",
            " |      Returns:\n",
            " |          dict:\n",
            " |              a dictionary containing a whole state of the module\n",
            " |      \n",
            " |      Example::\n",
            " |      \n",
            " |          >>> module.state_dict().keys()\n",
            " |          ['bias', 'weight']\n",
            " |  \n",
            " |  to(self, *args, **kwargs)\n",
            " |      Moves and/or casts the parameters and buffers.\n",
            " |      \n",
            " |      This can be called as\n",
            " |      \n",
            " |      .. function:: to(device=None, dtype=None, non_blocking=False)\n",
            " |      \n",
            " |      .. function:: to(dtype, non_blocking=False)\n",
            " |      \n",
            " |      .. function:: to(tensor, non_blocking=False)\n",
            " |      \n",
            " |      Its signature is similar to :meth:`torch.Tensor.to`, but only accepts\n",
            " |      floating point desired :attr:`dtype` s. In addition, this method will\n",
            " |      only cast the floating point parameters and buffers to :attr:`dtype`\n",
            " |      (if given). The integral parameters and buffers will be moved\n",
            " |      :attr:`device`, if that is given, but with dtypes unchanged. When\n",
            " |      :attr:`non_blocking` is set, it tries to convert/move asynchronously\n",
            " |      with respect to the host if possible, e.g., moving CPU Tensors with\n",
            " |      pinned memory to CUDA devices.\n",
            " |      \n",
            " |      See below for examples.\n",
            " |      \n",
            " |      .. note::\n",
            " |          This method modifies the module in-place.\n",
            " |      \n",
            " |      Args:\n",
            " |          device (:class:`torch.device`): the desired device of the parameters\n",
            " |              and buffers in this module\n",
            " |          dtype (:class:`torch.dtype`): the desired floating point type of\n",
            " |              the floating point parameters and buffers in this module\n",
            " |          tensor (torch.Tensor): Tensor whose dtype and device are the desired\n",
            " |              dtype and device for all parameters and buffers in this module\n",
            " |      \n",
            " |      Returns:\n",
            " |          Module: self\n",
            " |      \n",
            " |      Example::\n",
            " |      \n",
            " |          >>> linear = nn.Linear(2, 2)\n",
            " |          >>> linear.weight\n",
            " |          Parameter containing:\n",
            " |          tensor([[ 0.1913, -0.3420],\n",
            " |                  [-0.5113, -0.2325]])\n",
            " |          >>> linear.to(torch.double)\n",
            " |          Linear(in_features=2, out_features=2, bias=True)\n",
            " |          >>> linear.weight\n",
            " |          Parameter containing:\n",
            " |          tensor([[ 0.1913, -0.3420],\n",
            " |                  [-0.5113, -0.2325]], dtype=torch.float64)\n",
            " |          >>> gpu1 = torch.device(\"cuda:1\")\n",
            " |          >>> linear.to(gpu1, dtype=torch.half, non_blocking=True)\n",
            " |          Linear(in_features=2, out_features=2, bias=True)\n",
            " |          >>> linear.weight\n",
            " |          Parameter containing:\n",
            " |          tensor([[ 0.1914, -0.3420],\n",
            " |                  [-0.5112, -0.2324]], dtype=torch.float16, device='cuda:1')\n",
            " |          >>> cpu = torch.device(\"cpu\")\n",
            " |          >>> linear.to(cpu)\n",
            " |          Linear(in_features=2, out_features=2, bias=True)\n",
            " |          >>> linear.weight\n",
            " |          Parameter containing:\n",
            " |          tensor([[ 0.1914, -0.3420],\n",
            " |                  [-0.5112, -0.2324]], dtype=torch.float16)\n",
            " |  \n",
            " |  train(self, mode=True)\n",
            " |      Sets the module in training mode.\n",
            " |      \n",
            " |      This has any effect only on certain modules. See documentations of\n",
            " |      particular modules for details of their behaviors in training/evaluation\n",
            " |      mode, if they are affected, e.g. :class:`Dropout`, :class:`BatchNorm`,\n",
            " |      etc.\n",
            " |      \n",
            " |      Args:\n",
            " |          mode (bool): whether to set training mode (``True``) or evaluation\n",
            " |                       mode (``False``). Default: ``True``.\n",
            " |      \n",
            " |      Returns:\n",
            " |          Module: self\n",
            " |  \n",
            " |  type(self, dst_type)\n",
            " |      Casts all parameters and buffers to :attr:`dst_type`.\n",
            " |      \n",
            " |      Arguments:\n",
            " |          dst_type (type or string): the desired type\n",
            " |      \n",
            " |      Returns:\n",
            " |          Module: self\n",
            " |  \n",
            " |  zero_grad(self)\n",
            " |      Sets gradients of all model parameters to zero.\n",
            " |  \n",
            " |  ----------------------------------------------------------------------\n",
            " |  Data descriptors inherited from torch.nn.modules.module.Module:\n",
            " |  \n",
            " |  __dict__\n",
            " |      dictionary for instance variables (if defined)\n",
            " |  \n",
            " |  __weakref__\n",
            " |      list of weak references to the object (if defined)\n",
            " |  \n",
            " |  ----------------------------------------------------------------------\n",
            " |  Data and other attributes inherited from torch.nn.modules.module.Module:\n",
            " |  \n",
            " |  dump_patches = False\n",
            "\n"
          ],
          "name": "stdout"
        }
      ]
    },
    {
      "cell_type": "code",
      "metadata": {
        "id": "AGcoQzEBQHeP",
        "colab_type": "code",
        "colab": {}
      },
      "source": [
        ""
      ],
      "execution_count": 0,
      "outputs": []
    }
  ]
}